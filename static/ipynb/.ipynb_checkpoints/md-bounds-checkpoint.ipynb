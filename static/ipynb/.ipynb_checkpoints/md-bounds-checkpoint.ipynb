{
 "metadata": {
  "language_info": {
   "codemirror_mode": {
    "name": "ipython",
    "version": 3
   },
   "file_extension": ".py",
   "mimetype": "text/x-python",
   "name": "python",
   "nbconvert_exporter": "python",
   "pygments_lexer": "ipython3",
   "version": "3.8.5-final"
  },
  "orig_nbformat": 2,
  "kernelspec": {
   "name": "python3",
   "display_name": "Python 3.8.5 64-bit (conda)",
   "metadata": {
    "interpreter": {
     "hash": "513dc2e41d739bb2c947903f3c0bbf636d03aa53ab50e61c694a27481c81805e"
    }
   }
  }
 },
 "nbformat": 4,
 "nbformat_minor": 2,
 "cells": [
  {
   "cell_type": "code",
   "execution_count": 1,
   "metadata": {},
   "outputs": [],
   "source": [
    "import pymongo\n",
    "import json\n",
    "import pandas as pd\n",
    "from flask import Flask"
   ]
  },
  {
   "cell_type": "code",
   "execution_count": 6,
   "metadata": {},
   "outputs": [],
   "source": [
    "filepath = ('MD_df.csv')\n",
    "MD_df = pd.read_csv(filepath)"
   ]
  },
  {
   "cell_type": "code",
   "execution_count": 10,
   "metadata": {},
   "outputs": [
    {
     "output_type": "execute_result",
     "data": {
      "text/plain": [
       "    index             datasetid                                  recordid  \\\n",
       "0       0  us-county-boundaries  f673d69cd2330c97c8c610aa6785eb0b26b78adb   \n",
       "1       1  us-county-boundaries  1ff166df435a10d2c0a3f3dfbe72ba582dd8315b   \n",
       "2       2  us-county-boundaries  c01a640424d4fdd796d37ad6a31029a33f522064   \n",
       "3       3  us-county-boundaries  a83ca622617717a20f4bbc3010ae05b97ecd8986   \n",
       "4       4  us-county-boundaries  e1a804f9b5ceeba7d55fd30d070581e599ac44c8   \n",
       "5       5  us-county-boundaries  e76fed27e7ee9d1854a341c49c4c9a65dd010f81   \n",
       "6       6  us-county-boundaries  8c33a3040d345f6344eaf3284a387f7eaf50cc86   \n",
       "7       7  us-county-boundaries  b182d6de389cf7d361b5ebbd6bf9af3edd53a8e4   \n",
       "8       8  us-county-boundaries  63727a1e1c1baa00145f477b3310439939ee2cd0   \n",
       "9       9  us-county-boundaries  129464c63e75cc757f289a70f6a38fbf10d22c9f   \n",
       "10     10  us-county-boundaries  e7db594b39bf6c8b195ce587d35b0faa10c4f96c   \n",
       "11     11  us-county-boundaries  cbcfe7f0dee93f159485684fbab060e3b6a9af43   \n",
       "12     12  us-county-boundaries  b2bdaa85b51a45556d3606fb35dfc64b3389b667   \n",
       "13     13  us-county-boundaries  f29ed15f0c8d24277d8e4f7093b37608341aef2d   \n",
       "14     14  us-county-boundaries  c598db36fb29b439285c615057379a8d6513c347   \n",
       "15     15  us-county-boundaries  9f826bc3e5bb778060064baf4fa25742a6a8527e   \n",
       "16     16  us-county-boundaries  d2de00001b07925cd29b7801f5d8abf70b1b53cb   \n",
       "17     17  us-county-boundaries  26985a5bd756f1bbe7b4adaf189d238686361890   \n",
       "18     18  us-county-boundaries  e4181e5661fac262a8c8292d87b0038a55d6202f   \n",
       "19     19  us-county-boundaries  b82135d884b2cbdcbe1020d2da4f497ed780e659   \n",
       "20     20  us-county-boundaries  6886837ed7d5e7b7e000feb8d68ceead33a2ecc6   \n",
       "21     21  us-county-boundaries  186ea6fb44b52a84f3885ca3e1163cb9d646c805   \n",
       "22     22  us-county-boundaries  60bf743f476d75248c02bcdb94c0a8f68c3412f1   \n",
       "23     23  us-county-boundaries  3bdd432aa926d3443a4a8fa7338f19b865224ea6   \n",
       "\n",
       "                                               fields  \\\n",
       "0   {'state_name': 'Maryland', 'stusab': 'MD', 'aw...   \n",
       "1   {'intptlat': '+38.9916174', 'countyfp_nozero':...   \n",
       "2   {'intptlat': '+39.5374292', 'countyfp_nozero':...   \n",
       "3   {'intptlat': '+39.5633308', 'countyfp_nozero':...   \n",
       "4   {'intptlat': '+38.8715306', 'countyfp_nozero':...   \n",
       "5   {'intptlat': '+39.6123134', 'countyfp_nozero':...   \n",
       "6   {'state_name': 'Maryland', 'stusab': 'MD', 'aw...   \n",
       "7   {'intptlat': '+38.4291957', 'countyfp_nozero':...   \n",
       "8   {'intptlat': '+39.2522639', 'countyfp_nozero':...   \n",
       "9   {'intptlat': '+38.2221332', 'countyfp_nozero':...   \n",
       "10  {'intptlat': '+39.5472985', 'countyfp_nozero':...   \n",
       "11  {'intptlat': '+38.2202894', 'countyfp_nozero':...   \n",
       "12  {'state_name': 'Maryland', 'stusab': 'MD', 'aw...   \n",
       "13  {'intptlat': '+39.0406929', 'countyfp_nozero':...   \n",
       "14  {'intptlat': '+38.7483486', 'countyfp_nozero':...   \n",
       "15  {'state_name': 'Maryland', 'stusab': 'MD', 'aw...   \n",
       "16  {'state_name': 'Maryland', 'stusab': 'MD', 'aw...   \n",
       "17  {'intptlat': '+39.3000324', 'countyfp_nozero':...   \n",
       "18  {'intptlat': '+39.4431666', 'countyfp_nozero':...   \n",
       "19  {'intptlat': '+39.6036207', 'countyfp_nozero':...   \n",
       "20  {'state_name': 'Maryland', 'stusab': 'MD', 'aw...   \n",
       "21  {'intptlat': '+38.0744501', 'countyfp_nozero':...   \n",
       "22  {'intptlat': '+39.2412793', 'countyfp_nozero':...   \n",
       "23  {'intptlat': '+38.3673699', 'countyfp_nozero':...   \n",
       "\n",
       "                                             geometry  \\\n",
       "0   {'type': 'Point', 'coordinates': [-76.53056446...   \n",
       "1   {'type': 'Point', 'coordinates': [-76.56759706...   \n",
       "2   {'type': 'Point', 'coordinates': [-76.29887538...   \n",
       "3   {'type': 'Point', 'coordinates': [-77.02252272...   \n",
       "4   {'type': 'Point', 'coordinates': [-75.83160096...   \n",
       "5   {'type': 'Point', 'coordinates': [-78.69753855...   \n",
       "6   {'type': 'Point', 'coordinates': [-76.84729240...   \n",
       "7   {'type': 'Point', 'coordinates': [-76.08332531...   \n",
       "8   {'type': 'Point', 'coordinates': [-76.93119434...   \n",
       "9   {'type': 'Point', 'coordinates': [-75.29667082...   \n",
       "10  {'type': 'Point', 'coordinates': [-79.27299328...   \n",
       "11  {'type': 'Point', 'coordinates': [-76.52906066...   \n",
       "12  {'type': 'Point', 'coordinates': [-77.01348409...   \n",
       "13  {'type': 'Point', 'coordinates': [-76.08503600...   \n",
       "14  {'type': 'Point', 'coordinates': [-76.17861706...   \n",
       "15  {'type': 'Point', 'coordinates': [-75.94810697...   \n",
       "16  {'type': 'Point', 'coordinates': [-77.20423732...   \n",
       "17  {'type': 'Point', 'coordinates': [-76.61064690...   \n",
       "18  {'type': 'Point', 'coordinates': [-76.61632295...   \n",
       "19  {'type': 'Point', 'coordinates': [-77.81398066...   \n",
       "20  {'type': 'Point', 'coordinates': [-77.39798433...   \n",
       "21  {'type': 'Point', 'coordinates': [-75.85347057...   \n",
       "22  {'type': 'Point', 'coordinates': [-76.09582060...   \n",
       "23  {'type': 'Point', 'coordinates': [-75.63153107...   \n",
       "\n",
       "                 record_timestamp  \n",
       "0   2019-10-24T05:06:14.852-04:00  \n",
       "1   2019-10-24T05:06:14.852-04:00  \n",
       "2   2019-10-24T05:06:14.852-04:00  \n",
       "3   2019-10-24T05:06:14.852-04:00  \n",
       "4   2019-10-24T05:06:14.852-04:00  \n",
       "5   2019-10-24T05:06:14.852-04:00  \n",
       "6   2019-10-24T05:06:14.852-04:00  \n",
       "7   2019-10-24T05:06:14.852-04:00  \n",
       "8   2019-10-24T05:06:14.852-04:00  \n",
       "9   2019-10-24T05:06:14.852-04:00  \n",
       "10  2019-10-24T05:06:14.852-04:00  \n",
       "11  2019-10-24T05:06:14.852-04:00  \n",
       "12  2019-10-24T05:06:14.852-04:00  \n",
       "13  2019-10-24T05:06:14.852-04:00  \n",
       "14  2019-10-24T05:06:14.852-04:00  \n",
       "15  2019-10-24T05:06:14.852-04:00  \n",
       "16  2019-10-24T05:06:14.852-04:00  \n",
       "17  2019-10-24T05:06:14.852-04:00  \n",
       "18  2019-10-24T05:06:14.852-04:00  \n",
       "19  2019-10-24T05:06:14.852-04:00  \n",
       "20  2019-10-24T05:06:14.852-04:00  \n",
       "21  2019-10-24T05:06:14.852-04:00  \n",
       "22  2019-10-24T05:06:14.852-04:00  \n",
       "23  2019-10-24T05:06:14.852-04:00  "
      ],
      "text/html": "<div>\n<style scoped>\n    .dataframe tbody tr th:only-of-type {\n        vertical-align: middle;\n    }\n\n    .dataframe tbody tr th {\n        vertical-align: top;\n    }\n\n    .dataframe thead th {\n        text-align: right;\n    }\n</style>\n<table border=\"1\" class=\"dataframe\">\n  <thead>\n    <tr style=\"text-align: right;\">\n      <th></th>\n      <th>index</th>\n      <th>datasetid</th>\n      <th>recordid</th>\n      <th>fields</th>\n      <th>geometry</th>\n      <th>record_timestamp</th>\n    </tr>\n  </thead>\n  <tbody>\n    <tr>\n      <th>0</th>\n      <td>0</td>\n      <td>us-county-boundaries</td>\n      <td>f673d69cd2330c97c8c610aa6785eb0b26b78adb</td>\n      <td>{'state_name': 'Maryland', 'stusab': 'MD', 'aw...</td>\n      <td>{'type': 'Point', 'coordinates': [-76.53056446...</td>\n      <td>2019-10-24T05:06:14.852-04:00</td>\n    </tr>\n    <tr>\n      <th>1</th>\n      <td>1</td>\n      <td>us-county-boundaries</td>\n      <td>1ff166df435a10d2c0a3f3dfbe72ba582dd8315b</td>\n      <td>{'intptlat': '+38.9916174', 'countyfp_nozero':...</td>\n      <td>{'type': 'Point', 'coordinates': [-76.56759706...</td>\n      <td>2019-10-24T05:06:14.852-04:00</td>\n    </tr>\n    <tr>\n      <th>2</th>\n      <td>2</td>\n      <td>us-county-boundaries</td>\n      <td>c01a640424d4fdd796d37ad6a31029a33f522064</td>\n      <td>{'intptlat': '+39.5374292', 'countyfp_nozero':...</td>\n      <td>{'type': 'Point', 'coordinates': [-76.29887538...</td>\n      <td>2019-10-24T05:06:14.852-04:00</td>\n    </tr>\n    <tr>\n      <th>3</th>\n      <td>3</td>\n      <td>us-county-boundaries</td>\n      <td>a83ca622617717a20f4bbc3010ae05b97ecd8986</td>\n      <td>{'intptlat': '+39.5633308', 'countyfp_nozero':...</td>\n      <td>{'type': 'Point', 'coordinates': [-77.02252272...</td>\n      <td>2019-10-24T05:06:14.852-04:00</td>\n    </tr>\n    <tr>\n      <th>4</th>\n      <td>4</td>\n      <td>us-county-boundaries</td>\n      <td>e1a804f9b5ceeba7d55fd30d070581e599ac44c8</td>\n      <td>{'intptlat': '+38.8715306', 'countyfp_nozero':...</td>\n      <td>{'type': 'Point', 'coordinates': [-75.83160096...</td>\n      <td>2019-10-24T05:06:14.852-04:00</td>\n    </tr>\n    <tr>\n      <th>5</th>\n      <td>5</td>\n      <td>us-county-boundaries</td>\n      <td>e76fed27e7ee9d1854a341c49c4c9a65dd010f81</td>\n      <td>{'intptlat': '+39.6123134', 'countyfp_nozero':...</td>\n      <td>{'type': 'Point', 'coordinates': [-78.69753855...</td>\n      <td>2019-10-24T05:06:14.852-04:00</td>\n    </tr>\n    <tr>\n      <th>6</th>\n      <td>6</td>\n      <td>us-county-boundaries</td>\n      <td>8c33a3040d345f6344eaf3284a387f7eaf50cc86</td>\n      <td>{'state_name': 'Maryland', 'stusab': 'MD', 'aw...</td>\n      <td>{'type': 'Point', 'coordinates': [-76.84729240...</td>\n      <td>2019-10-24T05:06:14.852-04:00</td>\n    </tr>\n    <tr>\n      <th>7</th>\n      <td>7</td>\n      <td>us-county-boundaries</td>\n      <td>b182d6de389cf7d361b5ebbd6bf9af3edd53a8e4</td>\n      <td>{'intptlat': '+38.4291957', 'countyfp_nozero':...</td>\n      <td>{'type': 'Point', 'coordinates': [-76.08332531...</td>\n      <td>2019-10-24T05:06:14.852-04:00</td>\n    </tr>\n    <tr>\n      <th>8</th>\n      <td>8</td>\n      <td>us-county-boundaries</td>\n      <td>63727a1e1c1baa00145f477b3310439939ee2cd0</td>\n      <td>{'intptlat': '+39.2522639', 'countyfp_nozero':...</td>\n      <td>{'type': 'Point', 'coordinates': [-76.93119434...</td>\n      <td>2019-10-24T05:06:14.852-04:00</td>\n    </tr>\n    <tr>\n      <th>9</th>\n      <td>9</td>\n      <td>us-county-boundaries</td>\n      <td>129464c63e75cc757f289a70f6a38fbf10d22c9f</td>\n      <td>{'intptlat': '+38.2221332', 'countyfp_nozero':...</td>\n      <td>{'type': 'Point', 'coordinates': [-75.29667082...</td>\n      <td>2019-10-24T05:06:14.852-04:00</td>\n    </tr>\n    <tr>\n      <th>10</th>\n      <td>10</td>\n      <td>us-county-boundaries</td>\n      <td>e7db594b39bf6c8b195ce587d35b0faa10c4f96c</td>\n      <td>{'intptlat': '+39.5472985', 'countyfp_nozero':...</td>\n      <td>{'type': 'Point', 'coordinates': [-79.27299328...</td>\n      <td>2019-10-24T05:06:14.852-04:00</td>\n    </tr>\n    <tr>\n      <th>11</th>\n      <td>11</td>\n      <td>us-county-boundaries</td>\n      <td>cbcfe7f0dee93f159485684fbab060e3b6a9af43</td>\n      <td>{'intptlat': '+38.2202894', 'countyfp_nozero':...</td>\n      <td>{'type': 'Point', 'coordinates': [-76.52906066...</td>\n      <td>2019-10-24T05:06:14.852-04:00</td>\n    </tr>\n    <tr>\n      <th>12</th>\n      <td>12</td>\n      <td>us-county-boundaries</td>\n      <td>b2bdaa85b51a45556d3606fb35dfc64b3389b667</td>\n      <td>{'state_name': 'Maryland', 'stusab': 'MD', 'aw...</td>\n      <td>{'type': 'Point', 'coordinates': [-77.01348409...</td>\n      <td>2019-10-24T05:06:14.852-04:00</td>\n    </tr>\n    <tr>\n      <th>13</th>\n      <td>13</td>\n      <td>us-county-boundaries</td>\n      <td>f29ed15f0c8d24277d8e4f7093b37608341aef2d</td>\n      <td>{'intptlat': '+39.0406929', 'countyfp_nozero':...</td>\n      <td>{'type': 'Point', 'coordinates': [-76.08503600...</td>\n      <td>2019-10-24T05:06:14.852-04:00</td>\n    </tr>\n    <tr>\n      <th>14</th>\n      <td>14</td>\n      <td>us-county-boundaries</td>\n      <td>c598db36fb29b439285c615057379a8d6513c347</td>\n      <td>{'intptlat': '+38.7483486', 'countyfp_nozero':...</td>\n      <td>{'type': 'Point', 'coordinates': [-76.17861706...</td>\n      <td>2019-10-24T05:06:14.852-04:00</td>\n    </tr>\n    <tr>\n      <th>15</th>\n      <td>15</td>\n      <td>us-county-boundaries</td>\n      <td>9f826bc3e5bb778060064baf4fa25742a6a8527e</td>\n      <td>{'state_name': 'Maryland', 'stusab': 'MD', 'aw...</td>\n      <td>{'type': 'Point', 'coordinates': [-75.94810697...</td>\n      <td>2019-10-24T05:06:14.852-04:00</td>\n    </tr>\n    <tr>\n      <th>16</th>\n      <td>16</td>\n      <td>us-county-boundaries</td>\n      <td>d2de00001b07925cd29b7801f5d8abf70b1b53cb</td>\n      <td>{'state_name': 'Maryland', 'stusab': 'MD', 'aw...</td>\n      <td>{'type': 'Point', 'coordinates': [-77.20423732...</td>\n      <td>2019-10-24T05:06:14.852-04:00</td>\n    </tr>\n    <tr>\n      <th>17</th>\n      <td>17</td>\n      <td>us-county-boundaries</td>\n      <td>26985a5bd756f1bbe7b4adaf189d238686361890</td>\n      <td>{'intptlat': '+39.3000324', 'countyfp_nozero':...</td>\n      <td>{'type': 'Point', 'coordinates': [-76.61064690...</td>\n      <td>2019-10-24T05:06:14.852-04:00</td>\n    </tr>\n    <tr>\n      <th>18</th>\n      <td>18</td>\n      <td>us-county-boundaries</td>\n      <td>e4181e5661fac262a8c8292d87b0038a55d6202f</td>\n      <td>{'intptlat': '+39.4431666', 'countyfp_nozero':...</td>\n      <td>{'type': 'Point', 'coordinates': [-76.61632295...</td>\n      <td>2019-10-24T05:06:14.852-04:00</td>\n    </tr>\n    <tr>\n      <th>19</th>\n      <td>19</td>\n      <td>us-county-boundaries</td>\n      <td>b82135d884b2cbdcbe1020d2da4f497ed780e659</td>\n      <td>{'intptlat': '+39.6036207', 'countyfp_nozero':...</td>\n      <td>{'type': 'Point', 'coordinates': [-77.81398066...</td>\n      <td>2019-10-24T05:06:14.852-04:00</td>\n    </tr>\n    <tr>\n      <th>20</th>\n      <td>20</td>\n      <td>us-county-boundaries</td>\n      <td>6886837ed7d5e7b7e000feb8d68ceead33a2ecc6</td>\n      <td>{'state_name': 'Maryland', 'stusab': 'MD', 'aw...</td>\n      <td>{'type': 'Point', 'coordinates': [-77.39798433...</td>\n      <td>2019-10-24T05:06:14.852-04:00</td>\n    </tr>\n    <tr>\n      <th>21</th>\n      <td>21</td>\n      <td>us-county-boundaries</td>\n      <td>186ea6fb44b52a84f3885ca3e1163cb9d646c805</td>\n      <td>{'intptlat': '+38.0744501', 'countyfp_nozero':...</td>\n      <td>{'type': 'Point', 'coordinates': [-75.85347057...</td>\n      <td>2019-10-24T05:06:14.852-04:00</td>\n    </tr>\n    <tr>\n      <th>22</th>\n      <td>22</td>\n      <td>us-county-boundaries</td>\n      <td>60bf743f476d75248c02bcdb94c0a8f68c3412f1</td>\n      <td>{'intptlat': '+39.2412793', 'countyfp_nozero':...</td>\n      <td>{'type': 'Point', 'coordinates': [-76.09582060...</td>\n      <td>2019-10-24T05:06:14.852-04:00</td>\n    </tr>\n    <tr>\n      <th>23</th>\n      <td>23</td>\n      <td>us-county-boundaries</td>\n      <td>3bdd432aa926d3443a4a8fa7338f19b865224ea6</td>\n      <td>{'intptlat': '+38.3673699', 'countyfp_nozero':...</td>\n      <td>{'type': 'Point', 'coordinates': [-75.63153107...</td>\n      <td>2019-10-24T05:06:14.852-04:00</td>\n    </tr>\n  </tbody>\n</table>\n</div>"
     },
     "metadata": {},
     "execution_count": 10
    }
   ],
   "source": [
    "boundaries = pd.read_json('us-county-boundaries.json')\n",
    "boundaries\n",
    "boundaries.reset_index()"
   ]
  },
  {
   "cell_type": "code",
   "execution_count": 16,
   "metadata": {},
   "outputs": [
    {
     "output_type": "execute_result",
     "data": {
      "text/plain": [
       "0     {'type': 'Point', 'coordinates': [-76.53056446...\n",
       "1     {'type': 'Point', 'coordinates': [-76.56759706...\n",
       "2     {'type': 'Point', 'coordinates': [-76.29887538...\n",
       "3     {'type': 'Point', 'coordinates': [-77.02252272...\n",
       "4     {'type': 'Point', 'coordinates': [-75.83160096...\n",
       "5     {'type': 'Point', 'coordinates': [-78.69753855...\n",
       "6     {'type': 'Point', 'coordinates': [-76.84729240...\n",
       "7     {'type': 'Point', 'coordinates': [-76.08332531...\n",
       "8     {'type': 'Point', 'coordinates': [-76.93119434...\n",
       "9     {'type': 'Point', 'coordinates': [-75.29667082...\n",
       "10    {'type': 'Point', 'coordinates': [-79.27299328...\n",
       "11    {'type': 'Point', 'coordinates': [-76.52906066...\n",
       "12    {'type': 'Point', 'coordinates': [-77.01348409...\n",
       "13    {'type': 'Point', 'coordinates': [-76.08503600...\n",
       "14    {'type': 'Point', 'coordinates': [-76.17861706...\n",
       "15    {'type': 'Point', 'coordinates': [-75.94810697...\n",
       "16    {'type': 'Point', 'coordinates': [-77.20423732...\n",
       "17    {'type': 'Point', 'coordinates': [-76.61064690...\n",
       "18    {'type': 'Point', 'coordinates': [-76.61632295...\n",
       "19    {'type': 'Point', 'coordinates': [-77.81398066...\n",
       "20    {'type': 'Point', 'coordinates': [-77.39798433...\n",
       "21    {'type': 'Point', 'coordinates': [-75.85347057...\n",
       "22    {'type': 'Point', 'coordinates': [-76.09582060...\n",
       "23    {'type': 'Point', 'coordinates': [-75.63153107...\n",
       "Name: geometry, dtype: object"
      ]
     },
     "metadata": {},
     "execution_count": 16
    }
   ],
   "source": [
    "Geo = boundaries[\"geometry\"]\n",
    "Geo"
   ]
  },
  {
   "cell_type": "code",
   "execution_count": 17,
   "metadata": {},
   "outputs": [
    {
     "output_type": "execute_result",
     "data": {
      "text/plain": [
       "0     {'state_name': 'Maryland', 'stusab': 'MD', 'aw...\n",
       "1     {'intptlat': '+38.9916174', 'countyfp_nozero':...\n",
       "2     {'intptlat': '+39.5374292', 'countyfp_nozero':...\n",
       "3     {'intptlat': '+39.5633308', 'countyfp_nozero':...\n",
       "4     {'intptlat': '+38.8715306', 'countyfp_nozero':...\n",
       "5     {'intptlat': '+39.6123134', 'countyfp_nozero':...\n",
       "6     {'state_name': 'Maryland', 'stusab': 'MD', 'aw...\n",
       "7     {'intptlat': '+38.4291957', 'countyfp_nozero':...\n",
       "8     {'intptlat': '+39.2522639', 'countyfp_nozero':...\n",
       "9     {'intptlat': '+38.2221332', 'countyfp_nozero':...\n",
       "10    {'intptlat': '+39.5472985', 'countyfp_nozero':...\n",
       "11    {'intptlat': '+38.2202894', 'countyfp_nozero':...\n",
       "12    {'state_name': 'Maryland', 'stusab': 'MD', 'aw...\n",
       "13    {'intptlat': '+39.0406929', 'countyfp_nozero':...\n",
       "14    {'intptlat': '+38.7483486', 'countyfp_nozero':...\n",
       "15    {'state_name': 'Maryland', 'stusab': 'MD', 'aw...\n",
       "16    {'state_name': 'Maryland', 'stusab': 'MD', 'aw...\n",
       "17    {'intptlat': '+39.3000324', 'countyfp_nozero':...\n",
       "18    {'intptlat': '+39.4431666', 'countyfp_nozero':...\n",
       "19    {'intptlat': '+39.6036207', 'countyfp_nozero':...\n",
       "20    {'state_name': 'Maryland', 'stusab': 'MD', 'aw...\n",
       "21    {'intptlat': '+38.0744501', 'countyfp_nozero':...\n",
       "22    {'intptlat': '+39.2412793', 'countyfp_nozero':...\n",
       "23    {'intptlat': '+38.3673699', 'countyfp_nozero':...\n",
       "Name: fields, dtype: object"
      ]
     },
     "metadata": {},
     "execution_count": 17
    }
   ],
   "source": [
    "Fields = boundaries[\"fields\"]\n",
    "Fields"
   ]
  },
  {
   "cell_type": "code",
   "execution_count": 20,
   "metadata": {},
   "outputs": [
    {
     "output_type": "execute_result",
     "data": {
      "text/plain": [
       "                                               fields\n",
       "0   {'state_name': 'Maryland', 'stusab': 'MD', 'aw...\n",
       "1   {'intptlat': '+38.9916174', 'countyfp_nozero':...\n",
       "2   {'intptlat': '+39.5374292', 'countyfp_nozero':...\n",
       "3   {'intptlat': '+39.5633308', 'countyfp_nozero':...\n",
       "4   {'intptlat': '+38.8715306', 'countyfp_nozero':...\n",
       "5   {'intptlat': '+39.6123134', 'countyfp_nozero':...\n",
       "6   {'state_name': 'Maryland', 'stusab': 'MD', 'aw...\n",
       "7   {'intptlat': '+38.4291957', 'countyfp_nozero':...\n",
       "8   {'intptlat': '+39.2522639', 'countyfp_nozero':...\n",
       "9   {'intptlat': '+38.2221332', 'countyfp_nozero':...\n",
       "10  {'intptlat': '+39.5472985', 'countyfp_nozero':...\n",
       "11  {'intptlat': '+38.2202894', 'countyfp_nozero':...\n",
       "12  {'state_name': 'Maryland', 'stusab': 'MD', 'aw...\n",
       "13  {'intptlat': '+39.0406929', 'countyfp_nozero':...\n",
       "14  {'intptlat': '+38.7483486', 'countyfp_nozero':...\n",
       "15  {'state_name': 'Maryland', 'stusab': 'MD', 'aw...\n",
       "16  {'state_name': 'Maryland', 'stusab': 'MD', 'aw...\n",
       "17  {'intptlat': '+39.3000324', 'countyfp_nozero':...\n",
       "18  {'intptlat': '+39.4431666', 'countyfp_nozero':...\n",
       "19  {'intptlat': '+39.6036207', 'countyfp_nozero':...\n",
       "20  {'state_name': 'Maryland', 'stusab': 'MD', 'aw...\n",
       "21  {'intptlat': '+38.0744501', 'countyfp_nozero':...\n",
       "22  {'intptlat': '+39.2412793', 'countyfp_nozero':...\n",
       "23  {'intptlat': '+38.3673699', 'countyfp_nozero':..."
      ],
      "text/html": "<div>\n<style scoped>\n    .dataframe tbody tr th:only-of-type {\n        vertical-align: middle;\n    }\n\n    .dataframe tbody tr th {\n        vertical-align: top;\n    }\n\n    .dataframe thead th {\n        text-align: right;\n    }\n</style>\n<table border=\"1\" class=\"dataframe\">\n  <thead>\n    <tr style=\"text-align: right;\">\n      <th></th>\n      <th>fields</th>\n    </tr>\n  </thead>\n  <tbody>\n    <tr>\n      <th>0</th>\n      <td>{'state_name': 'Maryland', 'stusab': 'MD', 'aw...</td>\n    </tr>\n    <tr>\n      <th>1</th>\n      <td>{'intptlat': '+38.9916174', 'countyfp_nozero':...</td>\n    </tr>\n    <tr>\n      <th>2</th>\n      <td>{'intptlat': '+39.5374292', 'countyfp_nozero':...</td>\n    </tr>\n    <tr>\n      <th>3</th>\n      <td>{'intptlat': '+39.5633308', 'countyfp_nozero':...</td>\n    </tr>\n    <tr>\n      <th>4</th>\n      <td>{'intptlat': '+38.8715306', 'countyfp_nozero':...</td>\n    </tr>\n    <tr>\n      <th>5</th>\n      <td>{'intptlat': '+39.6123134', 'countyfp_nozero':...</td>\n    </tr>\n    <tr>\n      <th>6</th>\n      <td>{'state_name': 'Maryland', 'stusab': 'MD', 'aw...</td>\n    </tr>\n    <tr>\n      <th>7</th>\n      <td>{'intptlat': '+38.4291957', 'countyfp_nozero':...</td>\n    </tr>\n    <tr>\n      <th>8</th>\n      <td>{'intptlat': '+39.2522639', 'countyfp_nozero':...</td>\n    </tr>\n    <tr>\n      <th>9</th>\n      <td>{'intptlat': '+38.2221332', 'countyfp_nozero':...</td>\n    </tr>\n    <tr>\n      <th>10</th>\n      <td>{'intptlat': '+39.5472985', 'countyfp_nozero':...</td>\n    </tr>\n    <tr>\n      <th>11</th>\n      <td>{'intptlat': '+38.2202894', 'countyfp_nozero':...</td>\n    </tr>\n    <tr>\n      <th>12</th>\n      <td>{'state_name': 'Maryland', 'stusab': 'MD', 'aw...</td>\n    </tr>\n    <tr>\n      <th>13</th>\n      <td>{'intptlat': '+39.0406929', 'countyfp_nozero':...</td>\n    </tr>\n    <tr>\n      <th>14</th>\n      <td>{'intptlat': '+38.7483486', 'countyfp_nozero':...</td>\n    </tr>\n    <tr>\n      <th>15</th>\n      <td>{'state_name': 'Maryland', 'stusab': 'MD', 'aw...</td>\n    </tr>\n    <tr>\n      <th>16</th>\n      <td>{'state_name': 'Maryland', 'stusab': 'MD', 'aw...</td>\n    </tr>\n    <tr>\n      <th>17</th>\n      <td>{'intptlat': '+39.3000324', 'countyfp_nozero':...</td>\n    </tr>\n    <tr>\n      <th>18</th>\n      <td>{'intptlat': '+39.4431666', 'countyfp_nozero':...</td>\n    </tr>\n    <tr>\n      <th>19</th>\n      <td>{'intptlat': '+39.6036207', 'countyfp_nozero':...</td>\n    </tr>\n    <tr>\n      <th>20</th>\n      <td>{'state_name': 'Maryland', 'stusab': 'MD', 'aw...</td>\n    </tr>\n    <tr>\n      <th>21</th>\n      <td>{'intptlat': '+38.0744501', 'countyfp_nozero':...</td>\n    </tr>\n    <tr>\n      <th>22</th>\n      <td>{'intptlat': '+39.2412793', 'countyfp_nozero':...</td>\n    </tr>\n    <tr>\n      <th>23</th>\n      <td>{'intptlat': '+38.3673699', 'countyfp_nozero':...</td>\n    </tr>\n  </tbody>\n</table>\n</div>"
     },
     "metadata": {},
     "execution_count": 20
    }
   ],
   "source": [
    "# Geo = boundaries[\"geometry\"]"
   ]
  },
  {
   "cell_type": "code",
   "execution_count": 28,
   "metadata": {},
   "outputs": [
    {
     "output_type": "execute_result",
     "data": {
      "text/plain": [
       "   state_name stusab      awater countyfp                namelsad  \\\n",
       "0    Maryland     MD   341577085      009          Calvert County   \n",
       "1    Maryland     MD   448033072      003     Anne Arundel County   \n",
       "2    Maryland     MD   231889650      025          Harford County   \n",
       "3    Maryland     MD    13112465      013          Carroll County   \n",
       "4    Maryland     MD    16777066      011         Caroline County   \n",
       "5    Maryland     MD    14801442      001         Allegany County   \n",
       "6    Maryland     MD    41917744      033  Prince George's County   \n",
       "7    Maryland     MD  1145353068      019       Dorchester County   \n",
       "8    Maryland     MD     6336142      027           Howard County   \n",
       "9    Maryland     MD   586532498      047        Worcester County   \n",
       "10   Maryland     MD    22498420      023          Garrett County   \n",
       "11   Maryland     MD  1050381198      037       St. Mary's County   \n",
       "12   Maryland     MD   479508078      017          Charles County   \n",
       "13   Maryland     MD   360020725      035     Queen Anne's County   \n",
       "14   Maryland     MD   539363462      041           Talbot County   \n",
       "15   Maryland     MD   185283751      015            Cecil County   \n",
       "16   Maryland     MD    35852731      031       Montgomery County   \n",
       "17   Maryland     MD    28758714      510          Baltimore city   \n",
       "18   Maryland     MD   215959023      005        Baltimore County   \n",
       "19   Maryland     MD    24801555      043       Washington County   \n",
       "20   Maryland     MD    17840723      021        Frederick County   \n",
       "21   Maryland     MD   752652868      039         Somerset County   \n",
       "22   Maryland     MD   353302295      029             Kent County   \n",
       "23   Maryland     MD    66787195      045         Wicomico County   \n",
       "\n",
       "   countyfp_nozero csafp classfp statefp       aland  ...  \\\n",
       "0                9   548      H1      24   552162128  ...   \n",
       "1                3   548      H1      24  1074353655  ...   \n",
       "2               25   548      H1      24  1132148068  ...   \n",
       "3               13   548      H1      24  1159352918  ...   \n",
       "4               11   NaN      H1      24   827350252  ...   \n",
       "5                1   NaN      H1      24  1093462025  ...   \n",
       "6               33   548      H1      24  1250062233  ...   \n",
       "7               19   480      H1      24  1400573745  ...   \n",
       "8               27   548      H1      24   649952136  ...   \n",
       "9               47   480      H1      24  1213155089  ...   \n",
       "10              23   NaN      H1      24  1681102437  ...   \n",
       "11              37   548      H1      24   929021301  ...   \n",
       "12              17   548      H1      24  1185688597  ...   \n",
       "13              35   548      H1      24   962673216  ...   \n",
       "14              41   548      H1      24   695561625  ...   \n",
       "15              15   428      H1      24   896909987  ...   \n",
       "16              31   548      H1      24  1277027149  ...   \n",
       "17             510   548      C7      24   209650970  ...   \n",
       "18               5   548      H1      24  1549745106  ...   \n",
       "19              43   548      H1      24  1185611700  ...   \n",
       "20              21   548      H1      24  1710755614  ...   \n",
       "21              39   480      H1      24   828145299  ...   \n",
       "22              29   NaN      H1      24   717516438  ...   \n",
       "23              45   480      H1      24   969744608  ...   \n",
       "\n",
       "                                            geo_shape cbsafp     intptlat  \\\n",
       "0   {'type': 'Polygon', 'coordinates': [[[-76.6919...  47900  +38.5227191   \n",
       "1   {'type': 'Polygon', 'coordinates': [[[-76.8161...  12580  +38.9916174   \n",
       "2   {'type': 'Polygon', 'coordinates': [[[-76.4592...  12580  +39.5374292   \n",
       "3   {'type': 'Polygon', 'coordinates': [[[-77.1980...  12580  +39.5633308   \n",
       "4   {'type': 'Polygon', 'coordinates': [[[-75.8971...    NaN  +38.8715306   \n",
       "5   {'type': 'Polygon', 'coordinates': [[[-78.9549...  19060  +39.6123134   \n",
       "6   {'type': 'Polygon', 'coordinates': [[[-76.9588...  47900  +38.8292875   \n",
       "7   {'type': 'Polygon', 'coordinates': [[[-75.9705...  15700  +38.4291957   \n",
       "8   {'type': 'Polygon', 'coordinates': [[[-77.0410...  12580  +39.2522639   \n",
       "9   {'type': 'Polygon', 'coordinates': [[[-75.5408...  41540  +38.2221332   \n",
       "10  {'type': 'Polygon', 'coordinates': [[[-79.4825...    NaN  +39.5472985   \n",
       "11  {'type': 'Polygon', 'coordinates': [[[-76.8202...  15680  +38.2202894   \n",
       "12  {'type': 'Polygon', 'coordinates': [[[-77.2557...  47900  +38.4728532   \n",
       "13  {'type': 'Polygon', 'coordinates': [[[-76.0468...  12580  +39.0406929   \n",
       "14  {'type': 'Polygon', 'coordinates': [[[-76.1260...  20660  +38.7483486   \n",
       "15  {'type': 'Polygon', 'coordinates': [[[-75.9371...  37980  +39.5623537   \n",
       "16  {'type': 'Polygon', 'coordinates': [[[-77.4315...  47900  +39.1373815   \n",
       "17  {'type': 'Polygon', 'coordinates': [[[-76.7115...  12580  +39.3000324   \n",
       "18  {'type': 'Polygon', 'coordinates': [[[-76.8873...  12580  +39.4431666   \n",
       "19  {'type': 'Polygon', 'coordinates': [[[-77.8468...  25180  +39.6036207   \n",
       "20  {'type': 'Polygon', 'coordinates': [[[-77.6201...  47900  +39.4702139   \n",
       "21  {'type': 'Polygon', 'coordinates': [[[-76.0121...  41540  +38.0744501   \n",
       "22  {'type': 'Polygon', 'coordinates': [[[-76.2253...    NaN  +39.2412793   \n",
       "23  {'type': 'Polygon', 'coordinates': [[[-75.8393...  41540  +38.3673699   \n",
       "\n",
       "               name      intptlon lsad                     geo_point_2d  \\\n",
       "0           Calvert  -076.5297621   06  [38.5347120041, -76.5305644689]   \n",
       "1      Anne Arundel  -076.5608941   06  [38.9941571642, -76.5675970619]   \n",
       "2           Harford  -076.2997894   06  [39.5364361834, -76.2988753861]   \n",
       "3           Carroll  -077.0153276   06  [39.5628541642, -77.0225227247]   \n",
       "4          Caroline  -075.8316620   06  [38.8717218127, -75.8316009642]   \n",
       "5          Allegany  -078.7031037   06  [39.6214732187, -78.6975385506]   \n",
       "6   Prince George's  -076.8481800   06  [38.8295152487, -76.8472924091]   \n",
       "7        Dorchester  -076.0474333   06  [38.4226080428, -76.0833253109]   \n",
       "8            Howard  -076.9244057   06  [39.2507169303, -76.9311943444]   \n",
       "9         Worcester  -075.3099315   06  [38.2164999843, -75.2966708247]   \n",
       "10          Garrett  -079.2746192   06  [39.5288947088, -79.2729932831]   \n",
       "11       St. Mary's  -076.5303837   06  [38.2158624014, -76.5290606633]   \n",
       "12          Charles  -077.0154272   06  [38.4736812339, -77.0134840998]   \n",
       "13     Queen Anne's  -076.0824053   06  [39.0376284098, -76.0850360056]   \n",
       "14           Talbot  -076.1784757   06  [38.7491001783, -76.1786170603]   \n",
       "15            Cecil  -075.9415852   06  [39.5624202546, -75.9481069728]   \n",
       "16       Montgomery  -077.2030633   06  [39.1363621482, -77.2042373226]   \n",
       "17        Baltimore  -076.6104761   25   [39.3009797143, -76.610646905]   \n",
       "18        Baltimore  -076.6165693   06   [39.443072852, -76.6163229502]   \n",
       "19       Washington  -077.8146709   06  [39.6036746811, -77.8139806631]   \n",
       "20        Frederick  -077.3976277   06  [39.4722125305, -77.3979843347]   \n",
       "21         Somerset  -075.8533228   06   [38.080066116, -75.8534705783]   \n",
       "22             Kent  -076.1259867   06  [39.2356038944, -76.0958206019]   \n",
       "23         Wicomico  -075.6320828   06  [38.3694102763, -75.6315310797]   \n",
       "\n",
       "    mtfcc  geoid  countyns  \n",
       "0   G4020  24009  01676636  \n",
       "1   G4020  24003  01710958  \n",
       "2   G4020  24025  01698178  \n",
       "3   G4020  24013  01696228  \n",
       "4   G4020  24011  00595737  \n",
       "5   G4020  24001  01713506  \n",
       "6   G4020  24033  01714670  \n",
       "7   G4020  24019  00596495  \n",
       "8   G4020  24027  01709077  \n",
       "9   G4020  24047  01668802  \n",
       "10  G4020  24023  01711058  \n",
       "11  G4020  24037  01697853  \n",
       "12  G4020  24017  01676992  \n",
       "13  G4020  24035  00596089  \n",
       "14  G4020  24041  00592947  \n",
       "15  G4020  24015  00596115  \n",
       "16  G4020  24031  01712500  \n",
       "17  G4020  24510  01702381  \n",
       "18  G4020  24005  01695314  \n",
       "19  G4020  24043  01714220  \n",
       "20  G4020  24021  01711211  \n",
       "21  G4020  24039  00596907  \n",
       "22  G4020  24029  00593907  \n",
       "23  G4020  24045  01668606  \n",
       "\n",
       "[24 rows x 22 columns]"
      ],
      "text/html": "<div>\n<style scoped>\n    .dataframe tbody tr th:only-of-type {\n        vertical-align: middle;\n    }\n\n    .dataframe tbody tr th {\n        vertical-align: top;\n    }\n\n    .dataframe thead th {\n        text-align: right;\n    }\n</style>\n<table border=\"1\" class=\"dataframe\">\n  <thead>\n    <tr style=\"text-align: right;\">\n      <th></th>\n      <th>state_name</th>\n      <th>stusab</th>\n      <th>awater</th>\n      <th>countyfp</th>\n      <th>namelsad</th>\n      <th>countyfp_nozero</th>\n      <th>csafp</th>\n      <th>classfp</th>\n      <th>statefp</th>\n      <th>aland</th>\n      <th>...</th>\n      <th>geo_shape</th>\n      <th>cbsafp</th>\n      <th>intptlat</th>\n      <th>name</th>\n      <th>intptlon</th>\n      <th>lsad</th>\n      <th>geo_point_2d</th>\n      <th>mtfcc</th>\n      <th>geoid</th>\n      <th>countyns</th>\n    </tr>\n  </thead>\n  <tbody>\n    <tr>\n      <th>0</th>\n      <td>Maryland</td>\n      <td>MD</td>\n      <td>341577085</td>\n      <td>009</td>\n      <td>Calvert County</td>\n      <td>9</td>\n      <td>548</td>\n      <td>H1</td>\n      <td>24</td>\n      <td>552162128</td>\n      <td>...</td>\n      <td>{'type': 'Polygon', 'coordinates': [[[-76.6919...</td>\n      <td>47900</td>\n      <td>+38.5227191</td>\n      <td>Calvert</td>\n      <td>-076.5297621</td>\n      <td>06</td>\n      <td>[38.5347120041, -76.5305644689]</td>\n      <td>G4020</td>\n      <td>24009</td>\n      <td>01676636</td>\n    </tr>\n    <tr>\n      <th>1</th>\n      <td>Maryland</td>\n      <td>MD</td>\n      <td>448033072</td>\n      <td>003</td>\n      <td>Anne Arundel County</td>\n      <td>3</td>\n      <td>548</td>\n      <td>H1</td>\n      <td>24</td>\n      <td>1074353655</td>\n      <td>...</td>\n      <td>{'type': 'Polygon', 'coordinates': [[[-76.8161...</td>\n      <td>12580</td>\n      <td>+38.9916174</td>\n      <td>Anne Arundel</td>\n      <td>-076.5608941</td>\n      <td>06</td>\n      <td>[38.9941571642, -76.5675970619]</td>\n      <td>G4020</td>\n      <td>24003</td>\n      <td>01710958</td>\n    </tr>\n    <tr>\n      <th>2</th>\n      <td>Maryland</td>\n      <td>MD</td>\n      <td>231889650</td>\n      <td>025</td>\n      <td>Harford County</td>\n      <td>25</td>\n      <td>548</td>\n      <td>H1</td>\n      <td>24</td>\n      <td>1132148068</td>\n      <td>...</td>\n      <td>{'type': 'Polygon', 'coordinates': [[[-76.4592...</td>\n      <td>12580</td>\n      <td>+39.5374292</td>\n      <td>Harford</td>\n      <td>-076.2997894</td>\n      <td>06</td>\n      <td>[39.5364361834, -76.2988753861]</td>\n      <td>G4020</td>\n      <td>24025</td>\n      <td>01698178</td>\n    </tr>\n    <tr>\n      <th>3</th>\n      <td>Maryland</td>\n      <td>MD</td>\n      <td>13112465</td>\n      <td>013</td>\n      <td>Carroll County</td>\n      <td>13</td>\n      <td>548</td>\n      <td>H1</td>\n      <td>24</td>\n      <td>1159352918</td>\n      <td>...</td>\n      <td>{'type': 'Polygon', 'coordinates': [[[-77.1980...</td>\n      <td>12580</td>\n      <td>+39.5633308</td>\n      <td>Carroll</td>\n      <td>-077.0153276</td>\n      <td>06</td>\n      <td>[39.5628541642, -77.0225227247]</td>\n      <td>G4020</td>\n      <td>24013</td>\n      <td>01696228</td>\n    </tr>\n    <tr>\n      <th>4</th>\n      <td>Maryland</td>\n      <td>MD</td>\n      <td>16777066</td>\n      <td>011</td>\n      <td>Caroline County</td>\n      <td>11</td>\n      <td>NaN</td>\n      <td>H1</td>\n      <td>24</td>\n      <td>827350252</td>\n      <td>...</td>\n      <td>{'type': 'Polygon', 'coordinates': [[[-75.8971...</td>\n      <td>NaN</td>\n      <td>+38.8715306</td>\n      <td>Caroline</td>\n      <td>-075.8316620</td>\n      <td>06</td>\n      <td>[38.8717218127, -75.8316009642]</td>\n      <td>G4020</td>\n      <td>24011</td>\n      <td>00595737</td>\n    </tr>\n    <tr>\n      <th>5</th>\n      <td>Maryland</td>\n      <td>MD</td>\n      <td>14801442</td>\n      <td>001</td>\n      <td>Allegany County</td>\n      <td>1</td>\n      <td>NaN</td>\n      <td>H1</td>\n      <td>24</td>\n      <td>1093462025</td>\n      <td>...</td>\n      <td>{'type': 'Polygon', 'coordinates': [[[-78.9549...</td>\n      <td>19060</td>\n      <td>+39.6123134</td>\n      <td>Allegany</td>\n      <td>-078.7031037</td>\n      <td>06</td>\n      <td>[39.6214732187, -78.6975385506]</td>\n      <td>G4020</td>\n      <td>24001</td>\n      <td>01713506</td>\n    </tr>\n    <tr>\n      <th>6</th>\n      <td>Maryland</td>\n      <td>MD</td>\n      <td>41917744</td>\n      <td>033</td>\n      <td>Prince George's County</td>\n      <td>33</td>\n      <td>548</td>\n      <td>H1</td>\n      <td>24</td>\n      <td>1250062233</td>\n      <td>...</td>\n      <td>{'type': 'Polygon', 'coordinates': [[[-76.9588...</td>\n      <td>47900</td>\n      <td>+38.8292875</td>\n      <td>Prince George's</td>\n      <td>-076.8481800</td>\n      <td>06</td>\n      <td>[38.8295152487, -76.8472924091]</td>\n      <td>G4020</td>\n      <td>24033</td>\n      <td>01714670</td>\n    </tr>\n    <tr>\n      <th>7</th>\n      <td>Maryland</td>\n      <td>MD</td>\n      <td>1145353068</td>\n      <td>019</td>\n      <td>Dorchester County</td>\n      <td>19</td>\n      <td>480</td>\n      <td>H1</td>\n      <td>24</td>\n      <td>1400573745</td>\n      <td>...</td>\n      <td>{'type': 'Polygon', 'coordinates': [[[-75.9705...</td>\n      <td>15700</td>\n      <td>+38.4291957</td>\n      <td>Dorchester</td>\n      <td>-076.0474333</td>\n      <td>06</td>\n      <td>[38.4226080428, -76.0833253109]</td>\n      <td>G4020</td>\n      <td>24019</td>\n      <td>00596495</td>\n    </tr>\n    <tr>\n      <th>8</th>\n      <td>Maryland</td>\n      <td>MD</td>\n      <td>6336142</td>\n      <td>027</td>\n      <td>Howard County</td>\n      <td>27</td>\n      <td>548</td>\n      <td>H1</td>\n      <td>24</td>\n      <td>649952136</td>\n      <td>...</td>\n      <td>{'type': 'Polygon', 'coordinates': [[[-77.0410...</td>\n      <td>12580</td>\n      <td>+39.2522639</td>\n      <td>Howard</td>\n      <td>-076.9244057</td>\n      <td>06</td>\n      <td>[39.2507169303, -76.9311943444]</td>\n      <td>G4020</td>\n      <td>24027</td>\n      <td>01709077</td>\n    </tr>\n    <tr>\n      <th>9</th>\n      <td>Maryland</td>\n      <td>MD</td>\n      <td>586532498</td>\n      <td>047</td>\n      <td>Worcester County</td>\n      <td>47</td>\n      <td>480</td>\n      <td>H1</td>\n      <td>24</td>\n      <td>1213155089</td>\n      <td>...</td>\n      <td>{'type': 'Polygon', 'coordinates': [[[-75.5408...</td>\n      <td>41540</td>\n      <td>+38.2221332</td>\n      <td>Worcester</td>\n      <td>-075.3099315</td>\n      <td>06</td>\n      <td>[38.2164999843, -75.2966708247]</td>\n      <td>G4020</td>\n      <td>24047</td>\n      <td>01668802</td>\n    </tr>\n    <tr>\n      <th>10</th>\n      <td>Maryland</td>\n      <td>MD</td>\n      <td>22498420</td>\n      <td>023</td>\n      <td>Garrett County</td>\n      <td>23</td>\n      <td>NaN</td>\n      <td>H1</td>\n      <td>24</td>\n      <td>1681102437</td>\n      <td>...</td>\n      <td>{'type': 'Polygon', 'coordinates': [[[-79.4825...</td>\n      <td>NaN</td>\n      <td>+39.5472985</td>\n      <td>Garrett</td>\n      <td>-079.2746192</td>\n      <td>06</td>\n      <td>[39.5288947088, -79.2729932831]</td>\n      <td>G4020</td>\n      <td>24023</td>\n      <td>01711058</td>\n    </tr>\n    <tr>\n      <th>11</th>\n      <td>Maryland</td>\n      <td>MD</td>\n      <td>1050381198</td>\n      <td>037</td>\n      <td>St. Mary's County</td>\n      <td>37</td>\n      <td>548</td>\n      <td>H1</td>\n      <td>24</td>\n      <td>929021301</td>\n      <td>...</td>\n      <td>{'type': 'Polygon', 'coordinates': [[[-76.8202...</td>\n      <td>15680</td>\n      <td>+38.2202894</td>\n      <td>St. Mary's</td>\n      <td>-076.5303837</td>\n      <td>06</td>\n      <td>[38.2158624014, -76.5290606633]</td>\n      <td>G4020</td>\n      <td>24037</td>\n      <td>01697853</td>\n    </tr>\n    <tr>\n      <th>12</th>\n      <td>Maryland</td>\n      <td>MD</td>\n      <td>479508078</td>\n      <td>017</td>\n      <td>Charles County</td>\n      <td>17</td>\n      <td>548</td>\n      <td>H1</td>\n      <td>24</td>\n      <td>1185688597</td>\n      <td>...</td>\n      <td>{'type': 'Polygon', 'coordinates': [[[-77.2557...</td>\n      <td>47900</td>\n      <td>+38.4728532</td>\n      <td>Charles</td>\n      <td>-077.0154272</td>\n      <td>06</td>\n      <td>[38.4736812339, -77.0134840998]</td>\n      <td>G4020</td>\n      <td>24017</td>\n      <td>01676992</td>\n    </tr>\n    <tr>\n      <th>13</th>\n      <td>Maryland</td>\n      <td>MD</td>\n      <td>360020725</td>\n      <td>035</td>\n      <td>Queen Anne's County</td>\n      <td>35</td>\n      <td>548</td>\n      <td>H1</td>\n      <td>24</td>\n      <td>962673216</td>\n      <td>...</td>\n      <td>{'type': 'Polygon', 'coordinates': [[[-76.0468...</td>\n      <td>12580</td>\n      <td>+39.0406929</td>\n      <td>Queen Anne's</td>\n      <td>-076.0824053</td>\n      <td>06</td>\n      <td>[39.0376284098, -76.0850360056]</td>\n      <td>G4020</td>\n      <td>24035</td>\n      <td>00596089</td>\n    </tr>\n    <tr>\n      <th>14</th>\n      <td>Maryland</td>\n      <td>MD</td>\n      <td>539363462</td>\n      <td>041</td>\n      <td>Talbot County</td>\n      <td>41</td>\n      <td>548</td>\n      <td>H1</td>\n      <td>24</td>\n      <td>695561625</td>\n      <td>...</td>\n      <td>{'type': 'Polygon', 'coordinates': [[[-76.1260...</td>\n      <td>20660</td>\n      <td>+38.7483486</td>\n      <td>Talbot</td>\n      <td>-076.1784757</td>\n      <td>06</td>\n      <td>[38.7491001783, -76.1786170603]</td>\n      <td>G4020</td>\n      <td>24041</td>\n      <td>00592947</td>\n    </tr>\n    <tr>\n      <th>15</th>\n      <td>Maryland</td>\n      <td>MD</td>\n      <td>185283751</td>\n      <td>015</td>\n      <td>Cecil County</td>\n      <td>15</td>\n      <td>428</td>\n      <td>H1</td>\n      <td>24</td>\n      <td>896909987</td>\n      <td>...</td>\n      <td>{'type': 'Polygon', 'coordinates': [[[-75.9371...</td>\n      <td>37980</td>\n      <td>+39.5623537</td>\n      <td>Cecil</td>\n      <td>-075.9415852</td>\n      <td>06</td>\n      <td>[39.5624202546, -75.9481069728]</td>\n      <td>G4020</td>\n      <td>24015</td>\n      <td>00596115</td>\n    </tr>\n    <tr>\n      <th>16</th>\n      <td>Maryland</td>\n      <td>MD</td>\n      <td>35852731</td>\n      <td>031</td>\n      <td>Montgomery County</td>\n      <td>31</td>\n      <td>548</td>\n      <td>H1</td>\n      <td>24</td>\n      <td>1277027149</td>\n      <td>...</td>\n      <td>{'type': 'Polygon', 'coordinates': [[[-77.4315...</td>\n      <td>47900</td>\n      <td>+39.1373815</td>\n      <td>Montgomery</td>\n      <td>-077.2030633</td>\n      <td>06</td>\n      <td>[39.1363621482, -77.2042373226]</td>\n      <td>G4020</td>\n      <td>24031</td>\n      <td>01712500</td>\n    </tr>\n    <tr>\n      <th>17</th>\n      <td>Maryland</td>\n      <td>MD</td>\n      <td>28758714</td>\n      <td>510</td>\n      <td>Baltimore city</td>\n      <td>510</td>\n      <td>548</td>\n      <td>C7</td>\n      <td>24</td>\n      <td>209650970</td>\n      <td>...</td>\n      <td>{'type': 'Polygon', 'coordinates': [[[-76.7115...</td>\n      <td>12580</td>\n      <td>+39.3000324</td>\n      <td>Baltimore</td>\n      <td>-076.6104761</td>\n      <td>25</td>\n      <td>[39.3009797143, -76.610646905]</td>\n      <td>G4020</td>\n      <td>24510</td>\n      <td>01702381</td>\n    </tr>\n    <tr>\n      <th>18</th>\n      <td>Maryland</td>\n      <td>MD</td>\n      <td>215959023</td>\n      <td>005</td>\n      <td>Baltimore County</td>\n      <td>5</td>\n      <td>548</td>\n      <td>H1</td>\n      <td>24</td>\n      <td>1549745106</td>\n      <td>...</td>\n      <td>{'type': 'Polygon', 'coordinates': [[[-76.8873...</td>\n      <td>12580</td>\n      <td>+39.4431666</td>\n      <td>Baltimore</td>\n      <td>-076.6165693</td>\n      <td>06</td>\n      <td>[39.443072852, -76.6163229502]</td>\n      <td>G4020</td>\n      <td>24005</td>\n      <td>01695314</td>\n    </tr>\n    <tr>\n      <th>19</th>\n      <td>Maryland</td>\n      <td>MD</td>\n      <td>24801555</td>\n      <td>043</td>\n      <td>Washington County</td>\n      <td>43</td>\n      <td>548</td>\n      <td>H1</td>\n      <td>24</td>\n      <td>1185611700</td>\n      <td>...</td>\n      <td>{'type': 'Polygon', 'coordinates': [[[-77.8468...</td>\n      <td>25180</td>\n      <td>+39.6036207</td>\n      <td>Washington</td>\n      <td>-077.8146709</td>\n      <td>06</td>\n      <td>[39.6036746811, -77.8139806631]</td>\n      <td>G4020</td>\n      <td>24043</td>\n      <td>01714220</td>\n    </tr>\n    <tr>\n      <th>20</th>\n      <td>Maryland</td>\n      <td>MD</td>\n      <td>17840723</td>\n      <td>021</td>\n      <td>Frederick County</td>\n      <td>21</td>\n      <td>548</td>\n      <td>H1</td>\n      <td>24</td>\n      <td>1710755614</td>\n      <td>...</td>\n      <td>{'type': 'Polygon', 'coordinates': [[[-77.6201...</td>\n      <td>47900</td>\n      <td>+39.4702139</td>\n      <td>Frederick</td>\n      <td>-077.3976277</td>\n      <td>06</td>\n      <td>[39.4722125305, -77.3979843347]</td>\n      <td>G4020</td>\n      <td>24021</td>\n      <td>01711211</td>\n    </tr>\n    <tr>\n      <th>21</th>\n      <td>Maryland</td>\n      <td>MD</td>\n      <td>752652868</td>\n      <td>039</td>\n      <td>Somerset County</td>\n      <td>39</td>\n      <td>480</td>\n      <td>H1</td>\n      <td>24</td>\n      <td>828145299</td>\n      <td>...</td>\n      <td>{'type': 'Polygon', 'coordinates': [[[-76.0121...</td>\n      <td>41540</td>\n      <td>+38.0744501</td>\n      <td>Somerset</td>\n      <td>-075.8533228</td>\n      <td>06</td>\n      <td>[38.080066116, -75.8534705783]</td>\n      <td>G4020</td>\n      <td>24039</td>\n      <td>00596907</td>\n    </tr>\n    <tr>\n      <th>22</th>\n      <td>Maryland</td>\n      <td>MD</td>\n      <td>353302295</td>\n      <td>029</td>\n      <td>Kent County</td>\n      <td>29</td>\n      <td>NaN</td>\n      <td>H1</td>\n      <td>24</td>\n      <td>717516438</td>\n      <td>...</td>\n      <td>{'type': 'Polygon', 'coordinates': [[[-76.2253...</td>\n      <td>NaN</td>\n      <td>+39.2412793</td>\n      <td>Kent</td>\n      <td>-076.1259867</td>\n      <td>06</td>\n      <td>[39.2356038944, -76.0958206019]</td>\n      <td>G4020</td>\n      <td>24029</td>\n      <td>00593907</td>\n    </tr>\n    <tr>\n      <th>23</th>\n      <td>Maryland</td>\n      <td>MD</td>\n      <td>66787195</td>\n      <td>045</td>\n      <td>Wicomico County</td>\n      <td>45</td>\n      <td>480</td>\n      <td>H1</td>\n      <td>24</td>\n      <td>969744608</td>\n      <td>...</td>\n      <td>{'type': 'Polygon', 'coordinates': [[[-75.8393...</td>\n      <td>41540</td>\n      <td>+38.3673699</td>\n      <td>Wicomico</td>\n      <td>-075.6320828</td>\n      <td>06</td>\n      <td>[38.3694102763, -75.6315310797]</td>\n      <td>G4020</td>\n      <td>24045</td>\n      <td>01668606</td>\n    </tr>\n  </tbody>\n</table>\n<p>24 rows × 22 columns</p>\n</div>"
     },
     "metadata": {},
     "execution_count": 28
    }
   ],
   "source": [
    "Fields_df = pd.DataFrame(Fields)"
   ]
  },
  {
   "cell_type": "code",
   "execution_count": 25,
   "metadata": {},
   "outputs": [
    {
     "output_type": "execute_result",
     "data": {
      "text/plain": [
       "Index(['fields'], dtype='object')"
      ]
     },
     "metadata": {},
     "execution_count": 25
    }
   ],
   "source": [
    "Fields_df = Fields_df[\"fields\"].apply(pd.Series)\n",
    "Fields_df"
   ]
  },
  {
   "cell_type": "code",
   "execution_count": 30,
   "metadata": {},
   "outputs": [
    {
     "output_type": "execute_result",
     "data": {
      "text/plain": [
       "                  namelsad                                          geo_shape\n",
       "0           Calvert County  {'type': 'Polygon', 'coordinates': [[[-76.6919...\n",
       "1      Anne Arundel County  {'type': 'Polygon', 'coordinates': [[[-76.8161...\n",
       "2           Harford County  {'type': 'Polygon', 'coordinates': [[[-76.4592...\n",
       "3           Carroll County  {'type': 'Polygon', 'coordinates': [[[-77.1980...\n",
       "4          Caroline County  {'type': 'Polygon', 'coordinates': [[[-75.8971...\n",
       "5          Allegany County  {'type': 'Polygon', 'coordinates': [[[-78.9549...\n",
       "6   Prince George's County  {'type': 'Polygon', 'coordinates': [[[-76.9588...\n",
       "7        Dorchester County  {'type': 'Polygon', 'coordinates': [[[-75.9705...\n",
       "8            Howard County  {'type': 'Polygon', 'coordinates': [[[-77.0410...\n",
       "9         Worcester County  {'type': 'Polygon', 'coordinates': [[[-75.5408...\n",
       "10          Garrett County  {'type': 'Polygon', 'coordinates': [[[-79.4825...\n",
       "11       St. Mary's County  {'type': 'Polygon', 'coordinates': [[[-76.8202...\n",
       "12          Charles County  {'type': 'Polygon', 'coordinates': [[[-77.2557...\n",
       "13     Queen Anne's County  {'type': 'Polygon', 'coordinates': [[[-76.0468...\n",
       "14           Talbot County  {'type': 'Polygon', 'coordinates': [[[-76.1260...\n",
       "15            Cecil County  {'type': 'Polygon', 'coordinates': [[[-75.9371...\n",
       "16       Montgomery County  {'type': 'Polygon', 'coordinates': [[[-77.4315...\n",
       "17          Baltimore city  {'type': 'Polygon', 'coordinates': [[[-76.7115...\n",
       "18        Baltimore County  {'type': 'Polygon', 'coordinates': [[[-76.8873...\n",
       "19       Washington County  {'type': 'Polygon', 'coordinates': [[[-77.8468...\n",
       "20        Frederick County  {'type': 'Polygon', 'coordinates': [[[-77.6201...\n",
       "21         Somerset County  {'type': 'Polygon', 'coordinates': [[[-76.0121...\n",
       "22             Kent County  {'type': 'Polygon', 'coordinates': [[[-76.2253...\n",
       "23         Wicomico County  {'type': 'Polygon', 'coordinates': [[[-75.8393..."
      ],
      "text/html": "<div>\n<style scoped>\n    .dataframe tbody tr th:only-of-type {\n        vertical-align: middle;\n    }\n\n    .dataframe tbody tr th {\n        vertical-align: top;\n    }\n\n    .dataframe thead th {\n        text-align: right;\n    }\n</style>\n<table border=\"1\" class=\"dataframe\">\n  <thead>\n    <tr style=\"text-align: right;\">\n      <th></th>\n      <th>namelsad</th>\n      <th>geo_shape</th>\n    </tr>\n  </thead>\n  <tbody>\n    <tr>\n      <th>0</th>\n      <td>Calvert County</td>\n      <td>{'type': 'Polygon', 'coordinates': [[[-76.6919...</td>\n    </tr>\n    <tr>\n      <th>1</th>\n      <td>Anne Arundel County</td>\n      <td>{'type': 'Polygon', 'coordinates': [[[-76.8161...</td>\n    </tr>\n    <tr>\n      <th>2</th>\n      <td>Harford County</td>\n      <td>{'type': 'Polygon', 'coordinates': [[[-76.4592...</td>\n    </tr>\n    <tr>\n      <th>3</th>\n      <td>Carroll County</td>\n      <td>{'type': 'Polygon', 'coordinates': [[[-77.1980...</td>\n    </tr>\n    <tr>\n      <th>4</th>\n      <td>Caroline County</td>\n      <td>{'type': 'Polygon', 'coordinates': [[[-75.8971...</td>\n    </tr>\n    <tr>\n      <th>5</th>\n      <td>Allegany County</td>\n      <td>{'type': 'Polygon', 'coordinates': [[[-78.9549...</td>\n    </tr>\n    <tr>\n      <th>6</th>\n      <td>Prince George's County</td>\n      <td>{'type': 'Polygon', 'coordinates': [[[-76.9588...</td>\n    </tr>\n    <tr>\n      <th>7</th>\n      <td>Dorchester County</td>\n      <td>{'type': 'Polygon', 'coordinates': [[[-75.9705...</td>\n    </tr>\n    <tr>\n      <th>8</th>\n      <td>Howard County</td>\n      <td>{'type': 'Polygon', 'coordinates': [[[-77.0410...</td>\n    </tr>\n    <tr>\n      <th>9</th>\n      <td>Worcester County</td>\n      <td>{'type': 'Polygon', 'coordinates': [[[-75.5408...</td>\n    </tr>\n    <tr>\n      <th>10</th>\n      <td>Garrett County</td>\n      <td>{'type': 'Polygon', 'coordinates': [[[-79.4825...</td>\n    </tr>\n    <tr>\n      <th>11</th>\n      <td>St. Mary's County</td>\n      <td>{'type': 'Polygon', 'coordinates': [[[-76.8202...</td>\n    </tr>\n    <tr>\n      <th>12</th>\n      <td>Charles County</td>\n      <td>{'type': 'Polygon', 'coordinates': [[[-77.2557...</td>\n    </tr>\n    <tr>\n      <th>13</th>\n      <td>Queen Anne's County</td>\n      <td>{'type': 'Polygon', 'coordinates': [[[-76.0468...</td>\n    </tr>\n    <tr>\n      <th>14</th>\n      <td>Talbot County</td>\n      <td>{'type': 'Polygon', 'coordinates': [[[-76.1260...</td>\n    </tr>\n    <tr>\n      <th>15</th>\n      <td>Cecil County</td>\n      <td>{'type': 'Polygon', 'coordinates': [[[-75.9371...</td>\n    </tr>\n    <tr>\n      <th>16</th>\n      <td>Montgomery County</td>\n      <td>{'type': 'Polygon', 'coordinates': [[[-77.4315...</td>\n    </tr>\n    <tr>\n      <th>17</th>\n      <td>Baltimore city</td>\n      <td>{'type': 'Polygon', 'coordinates': [[[-76.7115...</td>\n    </tr>\n    <tr>\n      <th>18</th>\n      <td>Baltimore County</td>\n      <td>{'type': 'Polygon', 'coordinates': [[[-76.8873...</td>\n    </tr>\n    <tr>\n      <th>19</th>\n      <td>Washington County</td>\n      <td>{'type': 'Polygon', 'coordinates': [[[-77.8468...</td>\n    </tr>\n    <tr>\n      <th>20</th>\n      <td>Frederick County</td>\n      <td>{'type': 'Polygon', 'coordinates': [[[-77.6201...</td>\n    </tr>\n    <tr>\n      <th>21</th>\n      <td>Somerset County</td>\n      <td>{'type': 'Polygon', 'coordinates': [[[-76.0121...</td>\n    </tr>\n    <tr>\n      <th>22</th>\n      <td>Kent County</td>\n      <td>{'type': 'Polygon', 'coordinates': [[[-76.2253...</td>\n    </tr>\n    <tr>\n      <th>23</th>\n      <td>Wicomico County</td>\n      <td>{'type': 'Polygon', 'coordinates': [[[-75.8393...</td>\n    </tr>\n  </tbody>\n</table>\n</div>"
     },
     "metadata": {},
     "execution_count": 30
    }
   ],
   "source": [
    "Fields_df.columns"
   ]
  },
  {
   "cell_type": "code",
   "execution_count": 41,
   "metadata": {},
   "outputs": [
    {
     "output_type": "execute_result",
     "data": {
      "text/plain": [
       "    index             county_name  \\\n",
       "0       0          Calvert County   \n",
       "1       1     Anne Arundel County   \n",
       "2       2          Harford County   \n",
       "3       3          Carroll County   \n",
       "4       4         Caroline County   \n",
       "5       5         Allegany County   \n",
       "6       6  Prince George's County   \n",
       "7       7       Dorchester County   \n",
       "8       8           Howard County   \n",
       "9       9        Worcester County   \n",
       "10     10          Garrett County   \n",
       "11     11       St. Mary's County   \n",
       "12     12          Charles County   \n",
       "13     13     Queen Anne's County   \n",
       "14     14           Talbot County   \n",
       "15     15            Cecil County   \n",
       "16     16       Montgomery County   \n",
       "17     17          Baltimore city   \n",
       "18     18        Baltimore County   \n",
       "19     19       Washington County   \n",
       "20     20        Frederick County   \n",
       "21     21         Somerset County   \n",
       "22     22             Kent County   \n",
       "23     23         Wicomico County   \n",
       "\n",
       "                                            geo_shape  \n",
       "0   {'type': 'Polygon', 'coordinates': [[[-76.6919...  \n",
       "1   {'type': 'Polygon', 'coordinates': [[[-76.8161...  \n",
       "2   {'type': 'Polygon', 'coordinates': [[[-76.4592...  \n",
       "3   {'type': 'Polygon', 'coordinates': [[[-77.1980...  \n",
       "4   {'type': 'Polygon', 'coordinates': [[[-75.8971...  \n",
       "5   {'type': 'Polygon', 'coordinates': [[[-78.9549...  \n",
       "6   {'type': 'Polygon', 'coordinates': [[[-76.9588...  \n",
       "7   {'type': 'Polygon', 'coordinates': [[[-75.9705...  \n",
       "8   {'type': 'Polygon', 'coordinates': [[[-77.0410...  \n",
       "9   {'type': 'Polygon', 'coordinates': [[[-75.5408...  \n",
       "10  {'type': 'Polygon', 'coordinates': [[[-79.4825...  \n",
       "11  {'type': 'Polygon', 'coordinates': [[[-76.8202...  \n",
       "12  {'type': 'Polygon', 'coordinates': [[[-77.2557...  \n",
       "13  {'type': 'Polygon', 'coordinates': [[[-76.0468...  \n",
       "14  {'type': 'Polygon', 'coordinates': [[[-76.1260...  \n",
       "15  {'type': 'Polygon', 'coordinates': [[[-75.9371...  \n",
       "16  {'type': 'Polygon', 'coordinates': [[[-77.4315...  \n",
       "17  {'type': 'Polygon', 'coordinates': [[[-76.7115...  \n",
       "18  {'type': 'Polygon', 'coordinates': [[[-76.8873...  \n",
       "19  {'type': 'Polygon', 'coordinates': [[[-77.8468...  \n",
       "20  {'type': 'Polygon', 'coordinates': [[[-77.6201...  \n",
       "21  {'type': 'Polygon', 'coordinates': [[[-76.0121...  \n",
       "22  {'type': 'Polygon', 'coordinates': [[[-76.2253...  \n",
       "23  {'type': 'Polygon', 'coordinates': [[[-75.8393...  "
      ],
      "text/html": "<div>\n<style scoped>\n    .dataframe tbody tr th:only-of-type {\n        vertical-align: middle;\n    }\n\n    .dataframe tbody tr th {\n        vertical-align: top;\n    }\n\n    .dataframe thead th {\n        text-align: right;\n    }\n</style>\n<table border=\"1\" class=\"dataframe\">\n  <thead>\n    <tr style=\"text-align: right;\">\n      <th></th>\n      <th>index</th>\n      <th>county_name</th>\n      <th>geo_shape</th>\n    </tr>\n  </thead>\n  <tbody>\n    <tr>\n      <th>0</th>\n      <td>0</td>\n      <td>Calvert County</td>\n      <td>{'type': 'Polygon', 'coordinates': [[[-76.6919...</td>\n    </tr>\n    <tr>\n      <th>1</th>\n      <td>1</td>\n      <td>Anne Arundel County</td>\n      <td>{'type': 'Polygon', 'coordinates': [[[-76.8161...</td>\n    </tr>\n    <tr>\n      <th>2</th>\n      <td>2</td>\n      <td>Harford County</td>\n      <td>{'type': 'Polygon', 'coordinates': [[[-76.4592...</td>\n    </tr>\n    <tr>\n      <th>3</th>\n      <td>3</td>\n      <td>Carroll County</td>\n      <td>{'type': 'Polygon', 'coordinates': [[[-77.1980...</td>\n    </tr>\n    <tr>\n      <th>4</th>\n      <td>4</td>\n      <td>Caroline County</td>\n      <td>{'type': 'Polygon', 'coordinates': [[[-75.8971...</td>\n    </tr>\n    <tr>\n      <th>5</th>\n      <td>5</td>\n      <td>Allegany County</td>\n      <td>{'type': 'Polygon', 'coordinates': [[[-78.9549...</td>\n    </tr>\n    <tr>\n      <th>6</th>\n      <td>6</td>\n      <td>Prince George's County</td>\n      <td>{'type': 'Polygon', 'coordinates': [[[-76.9588...</td>\n    </tr>\n    <tr>\n      <th>7</th>\n      <td>7</td>\n      <td>Dorchester County</td>\n      <td>{'type': 'Polygon', 'coordinates': [[[-75.9705...</td>\n    </tr>\n    <tr>\n      <th>8</th>\n      <td>8</td>\n      <td>Howard County</td>\n      <td>{'type': 'Polygon', 'coordinates': [[[-77.0410...</td>\n    </tr>\n    <tr>\n      <th>9</th>\n      <td>9</td>\n      <td>Worcester County</td>\n      <td>{'type': 'Polygon', 'coordinates': [[[-75.5408...</td>\n    </tr>\n    <tr>\n      <th>10</th>\n      <td>10</td>\n      <td>Garrett County</td>\n      <td>{'type': 'Polygon', 'coordinates': [[[-79.4825...</td>\n    </tr>\n    <tr>\n      <th>11</th>\n      <td>11</td>\n      <td>St. Mary's County</td>\n      <td>{'type': 'Polygon', 'coordinates': [[[-76.8202...</td>\n    </tr>\n    <tr>\n      <th>12</th>\n      <td>12</td>\n      <td>Charles County</td>\n      <td>{'type': 'Polygon', 'coordinates': [[[-77.2557...</td>\n    </tr>\n    <tr>\n      <th>13</th>\n      <td>13</td>\n      <td>Queen Anne's County</td>\n      <td>{'type': 'Polygon', 'coordinates': [[[-76.0468...</td>\n    </tr>\n    <tr>\n      <th>14</th>\n      <td>14</td>\n      <td>Talbot County</td>\n      <td>{'type': 'Polygon', 'coordinates': [[[-76.1260...</td>\n    </tr>\n    <tr>\n      <th>15</th>\n      <td>15</td>\n      <td>Cecil County</td>\n      <td>{'type': 'Polygon', 'coordinates': [[[-75.9371...</td>\n    </tr>\n    <tr>\n      <th>16</th>\n      <td>16</td>\n      <td>Montgomery County</td>\n      <td>{'type': 'Polygon', 'coordinates': [[[-77.4315...</td>\n    </tr>\n    <tr>\n      <th>17</th>\n      <td>17</td>\n      <td>Baltimore city</td>\n      <td>{'type': 'Polygon', 'coordinates': [[[-76.7115...</td>\n    </tr>\n    <tr>\n      <th>18</th>\n      <td>18</td>\n      <td>Baltimore County</td>\n      <td>{'type': 'Polygon', 'coordinates': [[[-76.8873...</td>\n    </tr>\n    <tr>\n      <th>19</th>\n      <td>19</td>\n      <td>Washington County</td>\n      <td>{'type': 'Polygon', 'coordinates': [[[-77.8468...</td>\n    </tr>\n    <tr>\n      <th>20</th>\n      <td>20</td>\n      <td>Frederick County</td>\n      <td>{'type': 'Polygon', 'coordinates': [[[-77.6201...</td>\n    </tr>\n    <tr>\n      <th>21</th>\n      <td>21</td>\n      <td>Somerset County</td>\n      <td>{'type': 'Polygon', 'coordinates': [[[-76.0121...</td>\n    </tr>\n    <tr>\n      <th>22</th>\n      <td>22</td>\n      <td>Kent County</td>\n      <td>{'type': 'Polygon', 'coordinates': [[[-76.2253...</td>\n    </tr>\n    <tr>\n      <th>23</th>\n      <td>23</td>\n      <td>Wicomico County</td>\n      <td>{'type': 'Polygon', 'coordinates': [[[-75.8393...</td>\n    </tr>\n  </tbody>\n</table>\n</div>"
     },
     "metadata": {},
     "execution_count": 41
    }
   ],
   "source": [
    "Fields_df = Fields_df[[\"namelsad\", \"geo_shape\"]]\n",
    "Fields_df"
   ]
  },
  {
   "cell_type": "code",
   "execution_count": 46,
   "metadata": {},
   "outputs": [
    {
     "output_type": "stream",
     "name": "stdout",
     "text": [
      "Index(['index', 'county_name', 'geo_shape', 'total_households',\n       'median_household_income', 'families', 'total_population', 'male',\n       'female'],\n      dtype='object')\n"
     ]
    }
   ],
   "source": [
    "clean = Fields_df.rename(columns={\"namelsad\": \"county_name\"})\n",
    "clean = clean.reset_index()\n",
    "clean"
   ]
  },
  {
   "cell_type": "code",
   "execution_count": 50,
   "metadata": {},
   "outputs": [],
   "source": [
    "county = pd.merge(clean, MD_df, on= 'county_name')\n",
    "county = pd.DataFrame(county)\n",
    "print(county.columns)"
   ]
  },
  {
   "cell_type": "code",
   "execution_count": 49,
   "metadata": {},
   "outputs": [
    {
     "output_type": "execute_result",
     "data": {
      "text/plain": [
       "    index             county_name  \\\n",
       "0       0          Calvert County   \n",
       "1       1     Anne Arundel County   \n",
       "2       2          Harford County   \n",
       "3       3          Carroll County   \n",
       "4       4         Caroline County   \n",
       "5       5         Allegany County   \n",
       "6       6  Prince George's County   \n",
       "7       7       Dorchester County   \n",
       "8       8           Howard County   \n",
       "9       9        Worcester County   \n",
       "10     10          Garrett County   \n",
       "11     11       St. Mary's County   \n",
       "12     12          Charles County   \n",
       "13     13     Queen Anne's County   \n",
       "14     14           Talbot County   \n",
       "15     15            Cecil County   \n",
       "16     16       Montgomery County   \n",
       "17     17          Baltimore city   \n",
       "18     18        Baltimore County   \n",
       "19     19       Washington County   \n",
       "20     20        Frederick County   \n",
       "21     21         Somerset County   \n",
       "22     22             Kent County   \n",
       "23     23         Wicomico County   \n",
       "\n",
       "                                            geo_shape  total_households  \\\n",
       "0   {'type': 'Polygon', 'coordinates': [[[-76.6919...             31462   \n",
       "1   {'type': 'Polygon', 'coordinates': [[[-76.8161...            205395   \n",
       "2   {'type': 'Polygon', 'coordinates': [[[-76.4592...             92895   \n",
       "3   {'type': 'Polygon', 'coordinates': [[[-77.1980...             60432   \n",
       "4   {'type': 'Polygon', 'coordinates': [[[-75.8971...             11996   \n",
       "5   {'type': 'Polygon', 'coordinates': [[[-78.9549...             27759   \n",
       "6   {'type': 'Polygon', 'coordinates': [[[-76.9588...            306694   \n",
       "7   {'type': 'Polygon', 'coordinates': [[[-75.9705...             12940   \n",
       "8   {'type': 'Polygon', 'coordinates': [[[-77.0410...            111337   \n",
       "9   {'type': 'Polygon', 'coordinates': [[[-75.5408...             21190   \n",
       "10  {'type': 'Polygon', 'coordinates': [[[-79.4825...             11865   \n",
       "11  {'type': 'Polygon', 'coordinates': [[[-76.8202...             39276   \n",
       "12  {'type': 'Polygon', 'coordinates': [[[-77.2557...             54988   \n",
       "13  {'type': 'Polygon', 'coordinates': [[[-76.0468...             17995   \n",
       "14  {'type': 'Polygon', 'coordinates': [[[-76.1260...             16498   \n",
       "15  {'type': 'Polygon', 'coordinates': [[[-75.9371...             37076   \n",
       "16  {'type': 'Polygon', 'coordinates': [[[-77.4315...            369242   \n",
       "17  {'type': 'Polygon', 'coordinates': [[[-76.7115...            239791   \n",
       "18  {'type': 'Polygon', 'coordinates': [[[-76.8873...            312859   \n",
       "19  {'type': 'Polygon', 'coordinates': [[[-77.8468...             55999   \n",
       "20  {'type': 'Polygon', 'coordinates': [[[-77.6201...             90022   \n",
       "21  {'type': 'Polygon', 'coordinates': [[[-76.0121...              8362   \n",
       "22  {'type': 'Polygon', 'coordinates': [[[-76.2253...              7605   \n",
       "23  {'type': 'Polygon', 'coordinates': [[[-75.8393...             37415   \n",
       "\n",
       "    median_household_income  families  total_population    male  female  \n",
       "0                    100350     23759             90824   45184   45640  \n",
       "1                     94502    142696            564600  279581  285019  \n",
       "2                     83445     67167            250132  122344  127788  \n",
       "3                     90510     45399            167319   82784   84535  \n",
       "4                     52469      8670             32785   15971   16814  \n",
       "5                     42771     17126             72591   37892   34699  \n",
       "6                     78607    202472            905161  435878  469283  \n",
       "7                     50532      8539             32386   15476   16910  \n",
       "8                    115576     82294            312495  152843  159652  \n",
       "9                     59458     13493             51559   25205   26354  \n",
       "10                    48174      8206             29516   14618   14898  \n",
       "11                    86508     27646            110979   55420   55559  \n",
       "12                    93973     40303            156021   75368   80653  \n",
       "13                    89241     12995             49071   24230   24841  \n",
       "14                    65595     10959             37461   17595   19866  \n",
       "15                    70516     26121            102416   50878   51538  \n",
       "16                   103178    257855           1039198  501571  537627  \n",
       "17                    46641    123385            619796  291377  328419  \n",
       "18                    71810    204288            828637  392930  435707  \n",
       "19                    58260     37413            149546   75958   73588  \n",
       "20                    88502     65073            246105  121305  124800  \n",
       "21                    39239      5258             25801   13821   11980  \n",
       "22                    56638      4644             19666    9426   10240  \n",
       "23                    54493     24425            102014   48622   53392  "
      ],
      "text/html": "<div>\n<style scoped>\n    .dataframe tbody tr th:only-of-type {\n        vertical-align: middle;\n    }\n\n    .dataframe tbody tr th {\n        vertical-align: top;\n    }\n\n    .dataframe thead th {\n        text-align: right;\n    }\n</style>\n<table border=\"1\" class=\"dataframe\">\n  <thead>\n    <tr style=\"text-align: right;\">\n      <th></th>\n      <th>index</th>\n      <th>county_name</th>\n      <th>geo_shape</th>\n      <th>total_households</th>\n      <th>median_household_income</th>\n      <th>families</th>\n      <th>total_population</th>\n      <th>male</th>\n      <th>female</th>\n    </tr>\n  </thead>\n  <tbody>\n    <tr>\n      <th>0</th>\n      <td>0</td>\n      <td>Calvert County</td>\n      <td>{'type': 'Polygon', 'coordinates': [[[-76.6919...</td>\n      <td>31462</td>\n      <td>100350</td>\n      <td>23759</td>\n      <td>90824</td>\n      <td>45184</td>\n      <td>45640</td>\n    </tr>\n    <tr>\n      <th>1</th>\n      <td>1</td>\n      <td>Anne Arundel County</td>\n      <td>{'type': 'Polygon', 'coordinates': [[[-76.8161...</td>\n      <td>205395</td>\n      <td>94502</td>\n      <td>142696</td>\n      <td>564600</td>\n      <td>279581</td>\n      <td>285019</td>\n    </tr>\n    <tr>\n      <th>2</th>\n      <td>2</td>\n      <td>Harford County</td>\n      <td>{'type': 'Polygon', 'coordinates': [[[-76.4592...</td>\n      <td>92895</td>\n      <td>83445</td>\n      <td>67167</td>\n      <td>250132</td>\n      <td>122344</td>\n      <td>127788</td>\n    </tr>\n    <tr>\n      <th>3</th>\n      <td>3</td>\n      <td>Carroll County</td>\n      <td>{'type': 'Polygon', 'coordinates': [[[-77.1980...</td>\n      <td>60432</td>\n      <td>90510</td>\n      <td>45399</td>\n      <td>167319</td>\n      <td>82784</td>\n      <td>84535</td>\n    </tr>\n    <tr>\n      <th>4</th>\n      <td>4</td>\n      <td>Caroline County</td>\n      <td>{'type': 'Polygon', 'coordinates': [[[-75.8971...</td>\n      <td>11996</td>\n      <td>52469</td>\n      <td>8670</td>\n      <td>32785</td>\n      <td>15971</td>\n      <td>16814</td>\n    </tr>\n    <tr>\n      <th>5</th>\n      <td>5</td>\n      <td>Allegany County</td>\n      <td>{'type': 'Polygon', 'coordinates': [[[-78.9549...</td>\n      <td>27759</td>\n      <td>42771</td>\n      <td>17126</td>\n      <td>72591</td>\n      <td>37892</td>\n      <td>34699</td>\n    </tr>\n    <tr>\n      <th>6</th>\n      <td>6</td>\n      <td>Prince George's County</td>\n      <td>{'type': 'Polygon', 'coordinates': [[[-76.9588...</td>\n      <td>306694</td>\n      <td>78607</td>\n      <td>202472</td>\n      <td>905161</td>\n      <td>435878</td>\n      <td>469283</td>\n    </tr>\n    <tr>\n      <th>7</th>\n      <td>7</td>\n      <td>Dorchester County</td>\n      <td>{'type': 'Polygon', 'coordinates': [[[-75.9705...</td>\n      <td>12940</td>\n      <td>50532</td>\n      <td>8539</td>\n      <td>32386</td>\n      <td>15476</td>\n      <td>16910</td>\n    </tr>\n    <tr>\n      <th>8</th>\n      <td>8</td>\n      <td>Howard County</td>\n      <td>{'type': 'Polygon', 'coordinates': [[[-77.0410...</td>\n      <td>111337</td>\n      <td>115576</td>\n      <td>82294</td>\n      <td>312495</td>\n      <td>152843</td>\n      <td>159652</td>\n    </tr>\n    <tr>\n      <th>9</th>\n      <td>9</td>\n      <td>Worcester County</td>\n      <td>{'type': 'Polygon', 'coordinates': [[[-75.5408...</td>\n      <td>21190</td>\n      <td>59458</td>\n      <td>13493</td>\n      <td>51559</td>\n      <td>25205</td>\n      <td>26354</td>\n    </tr>\n    <tr>\n      <th>10</th>\n      <td>10</td>\n      <td>Garrett County</td>\n      <td>{'type': 'Polygon', 'coordinates': [[[-79.4825...</td>\n      <td>11865</td>\n      <td>48174</td>\n      <td>8206</td>\n      <td>29516</td>\n      <td>14618</td>\n      <td>14898</td>\n    </tr>\n    <tr>\n      <th>11</th>\n      <td>11</td>\n      <td>St. Mary's County</td>\n      <td>{'type': 'Polygon', 'coordinates': [[[-76.8202...</td>\n      <td>39276</td>\n      <td>86508</td>\n      <td>27646</td>\n      <td>110979</td>\n      <td>55420</td>\n      <td>55559</td>\n    </tr>\n    <tr>\n      <th>12</th>\n      <td>12</td>\n      <td>Charles County</td>\n      <td>{'type': 'Polygon', 'coordinates': [[[-77.2557...</td>\n      <td>54988</td>\n      <td>93973</td>\n      <td>40303</td>\n      <td>156021</td>\n      <td>75368</td>\n      <td>80653</td>\n    </tr>\n    <tr>\n      <th>13</th>\n      <td>13</td>\n      <td>Queen Anne's County</td>\n      <td>{'type': 'Polygon', 'coordinates': [[[-76.0468...</td>\n      <td>17995</td>\n      <td>89241</td>\n      <td>12995</td>\n      <td>49071</td>\n      <td>24230</td>\n      <td>24841</td>\n    </tr>\n    <tr>\n      <th>14</th>\n      <td>14</td>\n      <td>Talbot County</td>\n      <td>{'type': 'Polygon', 'coordinates': [[[-76.1260...</td>\n      <td>16498</td>\n      <td>65595</td>\n      <td>10959</td>\n      <td>37461</td>\n      <td>17595</td>\n      <td>19866</td>\n    </tr>\n    <tr>\n      <th>15</th>\n      <td>15</td>\n      <td>Cecil County</td>\n      <td>{'type': 'Polygon', 'coordinates': [[[-75.9371...</td>\n      <td>37076</td>\n      <td>70516</td>\n      <td>26121</td>\n      <td>102416</td>\n      <td>50878</td>\n      <td>51538</td>\n    </tr>\n    <tr>\n      <th>16</th>\n      <td>16</td>\n      <td>Montgomery County</td>\n      <td>{'type': 'Polygon', 'coordinates': [[[-77.4315...</td>\n      <td>369242</td>\n      <td>103178</td>\n      <td>257855</td>\n      <td>1039198</td>\n      <td>501571</td>\n      <td>537627</td>\n    </tr>\n    <tr>\n      <th>17</th>\n      <td>17</td>\n      <td>Baltimore city</td>\n      <td>{'type': 'Polygon', 'coordinates': [[[-76.7115...</td>\n      <td>239791</td>\n      <td>46641</td>\n      <td>123385</td>\n      <td>619796</td>\n      <td>291377</td>\n      <td>328419</td>\n    </tr>\n    <tr>\n      <th>18</th>\n      <td>18</td>\n      <td>Baltimore County</td>\n      <td>{'type': 'Polygon', 'coordinates': [[[-76.8873...</td>\n      <td>312859</td>\n      <td>71810</td>\n      <td>204288</td>\n      <td>828637</td>\n      <td>392930</td>\n      <td>435707</td>\n    </tr>\n    <tr>\n      <th>19</th>\n      <td>19</td>\n      <td>Washington County</td>\n      <td>{'type': 'Polygon', 'coordinates': [[[-77.8468...</td>\n      <td>55999</td>\n      <td>58260</td>\n      <td>37413</td>\n      <td>149546</td>\n      <td>75958</td>\n      <td>73588</td>\n    </tr>\n    <tr>\n      <th>20</th>\n      <td>20</td>\n      <td>Frederick County</td>\n      <td>{'type': 'Polygon', 'coordinates': [[[-77.6201...</td>\n      <td>90022</td>\n      <td>88502</td>\n      <td>65073</td>\n      <td>246105</td>\n      <td>121305</td>\n      <td>124800</td>\n    </tr>\n    <tr>\n      <th>21</th>\n      <td>21</td>\n      <td>Somerset County</td>\n      <td>{'type': 'Polygon', 'coordinates': [[[-76.0121...</td>\n      <td>8362</td>\n      <td>39239</td>\n      <td>5258</td>\n      <td>25801</td>\n      <td>13821</td>\n      <td>11980</td>\n    </tr>\n    <tr>\n      <th>22</th>\n      <td>22</td>\n      <td>Kent County</td>\n      <td>{'type': 'Polygon', 'coordinates': [[[-76.2253...</td>\n      <td>7605</td>\n      <td>56638</td>\n      <td>4644</td>\n      <td>19666</td>\n      <td>9426</td>\n      <td>10240</td>\n    </tr>\n    <tr>\n      <th>23</th>\n      <td>23</td>\n      <td>Wicomico County</td>\n      <td>{'type': 'Polygon', 'coordinates': [[[-75.8393...</td>\n      <td>37415</td>\n      <td>54493</td>\n      <td>24425</td>\n      <td>102014</td>\n      <td>48622</td>\n      <td>53392</td>\n    </tr>\n  </tbody>\n</table>\n</div>"
     },
     "metadata": {},
     "execution_count": 49
    }
   ],
   "source": [
    "county"
   ]
  },
  {
   "cell_type": "code",
   "execution_count": 53,
   "metadata": {},
   "outputs": [
    {
     "output_type": "execute_result",
     "data": {
      "text/plain": [
       "                 type                                           features\n",
       "0   FeatureCollection  {'type': 'Feature', 'properties': {'county_nam...\n",
       "1   FeatureCollection  {'type': 'Feature', 'properties': {'county_nam...\n",
       "2   FeatureCollection  {'type': 'Feature', 'properties': {'county_nam...\n",
       "3   FeatureCollection  {'type': 'Feature', 'properties': {'county_nam...\n",
       "4   FeatureCollection  {'type': 'Feature', 'properties': {'county_nam...\n",
       "5   FeatureCollection  {'type': 'Feature', 'properties': {'county_nam...\n",
       "6   FeatureCollection  {'type': 'Feature', 'properties': {'county_nam...\n",
       "7   FeatureCollection  {'type': 'Feature', 'properties': {'county_nam...\n",
       "8   FeatureCollection  {'type': 'Feature', 'properties': {'county_nam...\n",
       "9   FeatureCollection  {'type': 'Feature', 'properties': {'county_nam...\n",
       "10  FeatureCollection  {'type': 'Feature', 'properties': {'county_nam...\n",
       "11  FeatureCollection  {'type': 'Feature', 'properties': {'county_nam...\n",
       "12  FeatureCollection  {'type': 'Feature', 'properties': {'county_nam...\n",
       "13  FeatureCollection  {'type': 'Feature', 'properties': {'county_nam...\n",
       "14  FeatureCollection  {'type': 'Feature', 'properties': {'county_nam...\n",
       "15  FeatureCollection  {'type': 'Feature', 'properties': {'county_nam...\n",
       "16  FeatureCollection  {'type': 'Feature', 'properties': {'county_nam...\n",
       "17  FeatureCollection  {'type': 'Feature', 'properties': {'county_nam...\n",
       "18  FeatureCollection  {'type': 'Feature', 'properties': {'county_nam...\n",
       "19  FeatureCollection  {'type': 'Feature', 'properties': {'county_nam...\n",
       "20  FeatureCollection  {'type': 'Feature', 'properties': {'county_nam...\n",
       "21  FeatureCollection  {'type': 'Feature', 'properties': {'county_nam...\n",
       "22  FeatureCollection  {'type': 'Feature', 'properties': {'county_nam...\n",
       "23  FeatureCollection  {'type': 'Feature', 'properties': {'county_nam..."
      ],
      "text/html": "<div>\n<style scoped>\n    .dataframe tbody tr th:only-of-type {\n        vertical-align: middle;\n    }\n\n    .dataframe tbody tr th {\n        vertical-align: top;\n    }\n\n    .dataframe thead th {\n        text-align: right;\n    }\n</style>\n<table border=\"1\" class=\"dataframe\">\n  <thead>\n    <tr style=\"text-align: right;\">\n      <th></th>\n      <th>type</th>\n      <th>features</th>\n    </tr>\n  </thead>\n  <tbody>\n    <tr>\n      <th>0</th>\n      <td>FeatureCollection</td>\n      <td>{'type': 'Feature', 'properties': {'county_nam...</td>\n    </tr>\n    <tr>\n      <th>1</th>\n      <td>FeatureCollection</td>\n      <td>{'type': 'Feature', 'properties': {'county_nam...</td>\n    </tr>\n    <tr>\n      <th>2</th>\n      <td>FeatureCollection</td>\n      <td>{'type': 'Feature', 'properties': {'county_nam...</td>\n    </tr>\n    <tr>\n      <th>3</th>\n      <td>FeatureCollection</td>\n      <td>{'type': 'Feature', 'properties': {'county_nam...</td>\n    </tr>\n    <tr>\n      <th>4</th>\n      <td>FeatureCollection</td>\n      <td>{'type': 'Feature', 'properties': {'county_nam...</td>\n    </tr>\n    <tr>\n      <th>5</th>\n      <td>FeatureCollection</td>\n      <td>{'type': 'Feature', 'properties': {'county_nam...</td>\n    </tr>\n    <tr>\n      <th>6</th>\n      <td>FeatureCollection</td>\n      <td>{'type': 'Feature', 'properties': {'county_nam...</td>\n    </tr>\n    <tr>\n      <th>7</th>\n      <td>FeatureCollection</td>\n      <td>{'type': 'Feature', 'properties': {'county_nam...</td>\n    </tr>\n    <tr>\n      <th>8</th>\n      <td>FeatureCollection</td>\n      <td>{'type': 'Feature', 'properties': {'county_nam...</td>\n    </tr>\n    <tr>\n      <th>9</th>\n      <td>FeatureCollection</td>\n      <td>{'type': 'Feature', 'properties': {'county_nam...</td>\n    </tr>\n    <tr>\n      <th>10</th>\n      <td>FeatureCollection</td>\n      <td>{'type': 'Feature', 'properties': {'county_nam...</td>\n    </tr>\n    <tr>\n      <th>11</th>\n      <td>FeatureCollection</td>\n      <td>{'type': 'Feature', 'properties': {'county_nam...</td>\n    </tr>\n    <tr>\n      <th>12</th>\n      <td>FeatureCollection</td>\n      <td>{'type': 'Feature', 'properties': {'county_nam...</td>\n    </tr>\n    <tr>\n      <th>13</th>\n      <td>FeatureCollection</td>\n      <td>{'type': 'Feature', 'properties': {'county_nam...</td>\n    </tr>\n    <tr>\n      <th>14</th>\n      <td>FeatureCollection</td>\n      <td>{'type': 'Feature', 'properties': {'county_nam...</td>\n    </tr>\n    <tr>\n      <th>15</th>\n      <td>FeatureCollection</td>\n      <td>{'type': 'Feature', 'properties': {'county_nam...</td>\n    </tr>\n    <tr>\n      <th>16</th>\n      <td>FeatureCollection</td>\n      <td>{'type': 'Feature', 'properties': {'county_nam...</td>\n    </tr>\n    <tr>\n      <th>17</th>\n      <td>FeatureCollection</td>\n      <td>{'type': 'Feature', 'properties': {'county_nam...</td>\n    </tr>\n    <tr>\n      <th>18</th>\n      <td>FeatureCollection</td>\n      <td>{'type': 'Feature', 'properties': {'county_nam...</td>\n    </tr>\n    <tr>\n      <th>19</th>\n      <td>FeatureCollection</td>\n      <td>{'type': 'Feature', 'properties': {'county_nam...</td>\n    </tr>\n    <tr>\n      <th>20</th>\n      <td>FeatureCollection</td>\n      <td>{'type': 'Feature', 'properties': {'county_nam...</td>\n    </tr>\n    <tr>\n      <th>21</th>\n      <td>FeatureCollection</td>\n      <td>{'type': 'Feature', 'properties': {'county_nam...</td>\n    </tr>\n    <tr>\n      <th>22</th>\n      <td>FeatureCollection</td>\n      <td>{'type': 'Feature', 'properties': {'county_nam...</td>\n    </tr>\n    <tr>\n      <th>23</th>\n      <td>FeatureCollection</td>\n      <td>{'type': 'Feature', 'properties': {'county_nam...</td>\n    </tr>\n  </tbody>\n</table>\n</div>"
     },
     "metadata": {},
     "execution_count": 53
    }
   ],
   "source": [
    "county_info = {\"type\": \"FeatureCollection\", \"features\": []}\n",
    "\n",
    "for i, row in county.iterrows():\n",
    "    try:\n",
    "        features = {\"type\": \"Feature\",\\\n",
    "                \"properties\": {},\\\n",
    "                \"geometry\": {}}\n",
    "        features[\"properties\"][\"county_name\"] = row[\"county_name\"]\n",
    "        features[\"properties\"][\"total_households\"] = row[\"total_households\"]\n",
    "        features[\"properties\"][\"median_household_income\"] = row[\"median_household_income\"]\n",
    "        features[\"properties\"][\"families\"] = row[\"families\"]\n",
    "        features[\"properties\"][\"total_population\"] = row[\"total_population\"]                                                     \n",
    "        features[\"properties\"][\"male\"] = row[\"male\"]\n",
    "        features[\"properties\"][\"female\"] = row[\"female\"]\n",
    "        features[\"geometry\"][\"coordinates\"] = row[\"geo_shape\"]\n",
    "        \n",
    "        county_info[\"features\"].append(features)\n",
    "    except error:\n",
    "        pass"
   ]
  },
  {
   "cell_type": "code",
   "execution_count": 54,
   "metadata": {},
   "outputs": [
    {
     "output_type": "execute_result",
     "data": {
      "text/plain": [
       "<pymongo.results.InsertOneResult at 0x263d5d65a00>"
      ]
     },
     "metadata": {},
     "execution_count": 54
    }
   ],
   "source": [
    "# Use pymongo to set up mongo connection\n",
    "conn = 'mongodb://localhost:27017'\n",
    "client = pymongo.MongoClient(conn)\n",
    "markets = client.markets.update_county_data\n",
    "markets.insert_one(county_info)"
   ]
  },
  {
   "cell_type": "code",
   "execution_count": null,
   "metadata": {},
   "outputs": [],
   "source": [
    "county_try_df = pd.DataFrame(county_info)\n",
    "county_try_df"
   ]
  }
 ]
}